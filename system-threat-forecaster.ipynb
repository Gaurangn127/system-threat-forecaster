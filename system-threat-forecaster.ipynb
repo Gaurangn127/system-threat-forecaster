{
  "cells": [
    {
      "cell_type": "code",
      "execution_count": null,
      "id": "b1c882d0",
      "metadata": {
        "_cell_guid": "b1076dfc-b9ad-4769-8c92-a6c4dae69d19",
        "_uuid": "8f2839f25d086af736a60e9eeb907d3b93b6e0e5",
        "execution": {
          "iopub.execute_input": "2025-04-10T21:01:51.430475Z",
          "iopub.status.busy": "2025-04-10T21:01:51.430052Z",
          "iopub.status.idle": "2025-04-10T21:01:54.424614Z",
          "shell.execute_reply": "2025-04-10T21:01:54.423306Z"
        },
        "papermill": {
          "duration": 3.014761,
          "end_time": "2025-04-10T21:01:54.426757",
          "exception": false,
          "start_time": "2025-04-10T21:01:51.411996",
          "status": "completed"
        },
        "tags": [],
        "id": "b1c882d0",
        "outputId": "c3b41725-6b96-4658-8a62-1987170ad731"
      },
      "outputs": [
        {
          "name": "stdout",
          "output_type": "stream",
          "text": [
            "/kaggle/input/System-Threat-Forecaster/sample_submission.csv\n",
            "/kaggle/input/System-Threat-Forecaster/train.csv\n",
            "/kaggle/input/System-Threat-Forecaster/test.csv\n"
          ]
        }
      ],
      "source": [
        "import numpy as np\n",
        "import pandas as pd\n",
        "import matplotlib.pyplot as plt\n",
        "import seaborn as sns\n",
        "\n",
        "\n",
        "import os\n",
        "for dirname, _, filenames in os.walk('/kaggle/input'):\n",
        "    for filename in filenames:\n",
        "        print(os.path.join(dirname, filename))\n",
        "\n",
        "import warnings\n",
        "warnings.filterwarnings('ignore')"
      ]
    },
    {
      "cell_type": "markdown",
      "id": "8c389231",
      "metadata": {
        "papermill": {
          "duration": 0.013998,
          "end_time": "2025-04-10T21:01:54.453665",
          "exception": false,
          "start_time": "2025-04-10T21:01:54.439667",
          "status": "completed"
        },
        "tags": [],
        "id": "8c389231"
      },
      "source": [
        "# Loading the datasets"
      ]
    },
    {
      "cell_type": "code",
      "execution_count": null,
      "id": "4590a3f7",
      "metadata": {
        "execution": {
          "iopub.execute_input": "2025-04-10T21:01:54.483023Z",
          "iopub.status.busy": "2025-04-10T21:01:54.482497Z",
          "iopub.status.idle": "2025-04-10T21:01:56.577170Z",
          "shell.execute_reply": "2025-04-10T21:01:56.575815Z"
        },
        "papermill": {
          "duration": 2.112446,
          "end_time": "2025-04-10T21:01:56.579346",
          "exception": false,
          "start_time": "2025-04-10T21:01:54.466900",
          "status": "completed"
        },
        "tags": [],
        "id": "4590a3f7",
        "outputId": "92fa584f-3bd0-43a0-80c1-9d01422f3f22"
      },
      "outputs": [
        {
          "name": "stdout",
          "output_type": "stream",
          "text": [
            "(100000, 76)\n",
            "(10000, 75)\n"
          ]
        }
      ],
      "source": [
        "train_data = pd.read_csv(\"/kaggle/input/System-Threat-Forecaster/train.csv\")\n",
        "test_data = pd.read_csv(\"/kaggle/input/System-Threat-Forecaster/test.csv\")\n",
        "print(train_data.shape)\n",
        "print(test_data.shape)"
      ]
    },
    {
      "cell_type": "code",
      "execution_count": null,
      "id": "3172c842",
      "metadata": {
        "execution": {
          "iopub.execute_input": "2025-04-10T21:01:56.608005Z",
          "iopub.status.busy": "2025-04-10T21:01:56.607686Z",
          "iopub.status.idle": "2025-04-10T21:01:56.634040Z",
          "shell.execute_reply": "2025-04-10T21:01:56.632758Z"
        },
        "papermill": {
          "duration": 0.041638,
          "end_time": "2025-04-10T21:01:56.636054",
          "exception": false,
          "start_time": "2025-04-10T21:01:56.594416",
          "status": "completed"
        },
        "tags": [],
        "id": "3172c842"
      },
      "outputs": [],
      "source": [
        "df = train_data.copy()"
      ]
    },
    {
      "cell_type": "code",
      "execution_count": null,
      "id": "e2c69c3b",
      "metadata": {
        "execution": {
          "iopub.execute_input": "2025-04-10T21:01:56.663106Z",
          "iopub.status.busy": "2025-04-10T21:01:56.662754Z",
          "iopub.status.idle": "2025-04-10T21:01:56.828219Z",
          "shell.execute_reply": "2025-04-10T21:01:56.827111Z"
        },
        "papermill": {
          "duration": 0.180843,
          "end_time": "2025-04-10T21:01:56.830039",
          "exception": false,
          "start_time": "2025-04-10T21:01:56.649196",
          "status": "completed"
        },
        "tags": [],
        "id": "e2c69c3b",
        "outputId": "cf6b52a3-8bf7-4986-f91b-5e2d76aa2532"
      },
      "outputs": [
        {
          "data": {
            "text/plain": [
              "MachineID             0\n",
              "ProductName           0\n",
              "EngineVersion         0\n",
              "AppVersion            0\n",
              "SignatureVersion      0\n",
              "                   ... \n",
              "IsGamer             559\n",
              "RegionIdentifier    559\n",
              "DateAS                0\n",
              "DateOS               24\n",
              "target                0\n",
              "Length: 76, dtype: int64"
            ]
          },
          "execution_count": 4,
          "metadata": {},
          "output_type": "execute_result"
        }
      ],
      "source": [
        "df.isna().sum()"
      ]
    },
    {
      "cell_type": "markdown",
      "id": "d00a0ce1",
      "metadata": {
        "papermill": {
          "duration": 0.012091,
          "end_time": "2025-04-10T21:01:56.854784",
          "exception": false,
          "start_time": "2025-04-10T21:01:56.842693",
          "status": "completed"
        },
        "tags": [],
        "id": "d00a0ce1"
      },
      "source": [
        "----"
      ]
    },
    {
      "cell_type": "markdown",
      "id": "2160cca7",
      "metadata": {
        "papermill": {
          "duration": 0.012112,
          "end_time": "2025-04-10T21:01:56.879922",
          "exception": false,
          "start_time": "2025-04-10T21:01:56.867810",
          "status": "completed"
        },
        "tags": [],
        "id": "2160cca7"
      },
      "source": [
        "# EXPLORATIVE DATA ANALYSIS"
      ]
    },
    {
      "cell_type": "markdown",
      "id": "54feed1a",
      "metadata": {
        "papermill": {
          "duration": 0.011787,
          "end_time": "2025-04-10T21:01:56.904074",
          "exception": false,
          "start_time": "2025-04-10T21:01:56.892287",
          "status": "completed"
        },
        "tags": [],
        "id": "54feed1a"
      },
      "source": [
        "### Data Preparation"
      ]
    },
    {
      "cell_type": "code",
      "execution_count": null,
      "id": "a8a6a829",
      "metadata": {
        "execution": {
          "iopub.execute_input": "2025-04-10T21:01:56.930563Z",
          "iopub.status.busy": "2025-04-10T21:01:56.930154Z",
          "iopub.status.idle": "2025-04-10T21:01:56.934084Z",
          "shell.execute_reply": "2025-04-10T21:01:56.932857Z"
        },
        "papermill": {
          "duration": 0.019848,
          "end_time": "2025-04-10T21:01:56.936132",
          "exception": false,
          "start_time": "2025-04-10T21:01:56.916284",
          "status": "completed"
        },
        "tags": [],
        "id": "a8a6a829"
      },
      "outputs": [],
      "source": [
        "# print(df.shape)\n",
        "# df.info()"
      ]
    },
    {
      "cell_type": "markdown",
      "id": "f452baa8",
      "metadata": {
        "papermill": {
          "duration": 0.01294,
          "end_time": "2025-04-10T21:01:56.962114",
          "exception": false,
          "start_time": "2025-04-10T21:01:56.949174",
          "status": "completed"
        },
        "tags": [],
        "id": "f452baa8"
      },
      "source": [
        "### Some Observations:\n",
        "1) There are 100000 row enteries in the training dataset (before cleaning of the dataset), with 76 column attributes, with one being the target column 'y'.\n",
        "2) Out of the 76 attributes, 31 are of float data type, 17 are of interger data type, and 28 are of data type object.\n"
      ]
    },
    {
      "cell_type": "code",
      "execution_count": null,
      "id": "26aaa43a",
      "metadata": {
        "execution": {
          "iopub.execute_input": "2025-04-10T21:01:56.989174Z",
          "iopub.status.busy": "2025-04-10T21:01:56.988816Z",
          "iopub.status.idle": "2025-04-10T21:01:56.992770Z",
          "shell.execute_reply": "2025-04-10T21:01:56.991598Z"
        },
        "papermill": {
          "duration": 0.019083,
          "end_time": "2025-04-10T21:01:56.994548",
          "exception": false,
          "start_time": "2025-04-10T21:01:56.975465",
          "status": "completed"
        },
        "tags": [],
        "id": "26aaa43a"
      },
      "outputs": [],
      "source": [
        "\n",
        "# Summary statistics for numerical columns\n",
        "print(\"\\nSummary Statistics:\")\n",
        "df.describe()\n"
      ]
    },
    {
      "cell_type": "code",
      "execution_count": null,
      "id": "8540c829",
      "metadata": {
        "execution": {
          "iopub.execute_input": "2025-04-10T21:01:57.021990Z",
          "iopub.status.busy": "2025-04-10T21:01:57.021639Z",
          "iopub.status.idle": "2025-04-10T21:01:57.025920Z",
          "shell.execute_reply": "2025-04-10T21:01:57.024722Z"
        },
        "papermill": {
          "duration": 0.019902,
          "end_time": "2025-04-10T21:01:57.027820",
          "exception": false,
          "start_time": "2025-04-10T21:01:57.007918",
          "status": "completed"
        },
        "tags": [],
        "id": "8540c829"
      },
      "outputs": [],
      "source": [
        "#noting all the qualitative columns, i.e., columns with object data type\n",
        "qualitative_columns = df.select_dtypes(include='object').columns\n",
        "qualitative_columns"
      ]
    },
    {
      "cell_type": "code",
      "execution_count": null,
      "id": "8e4c578f",
      "metadata": {
        "execution": {
          "iopub.execute_input": "2025-04-10T21:01:57.055980Z",
          "iopub.status.busy": "2025-04-10T21:01:57.055596Z",
          "iopub.status.idle": "2025-04-10T21:01:57.059848Z",
          "shell.execute_reply": "2025-04-10T21:01:57.058702Z"
        },
        "papermill": {
          "duration": 0.020965,
          "end_time": "2025-04-10T21:01:57.061904",
          "exception": false,
          "start_time": "2025-04-10T21:01:57.040939",
          "status": "completed"
        },
        "tags": [],
        "id": "8e4c578f"
      },
      "outputs": [],
      "source": [
        "df[qualitative_columns].head()"
      ]
    },
    {
      "cell_type": "code",
      "execution_count": null,
      "id": "c49d8b34",
      "metadata": {
        "execution": {
          "iopub.execute_input": "2025-04-10T21:01:57.091571Z",
          "iopub.status.busy": "2025-04-10T21:01:57.091127Z",
          "iopub.status.idle": "2025-04-10T21:01:57.095166Z",
          "shell.execute_reply": "2025-04-10T21:01:57.093941Z"
        },
        "papermill": {
          "duration": 0.021748,
          "end_time": "2025-04-10T21:01:57.098216",
          "exception": false,
          "start_time": "2025-04-10T21:01:57.076468",
          "status": "completed"
        },
        "tags": [],
        "id": "c49d8b34"
      },
      "outputs": [],
      "source": [
        "# # change date into date format\n",
        "# df['DateAS'] = pd.to_datetime(df['DateAS'])\n",
        "# df['DateOS'] = pd.to_datetime(df['DateOS'])"
      ]
    },
    {
      "cell_type": "code",
      "execution_count": null,
      "id": "0ccc11d2",
      "metadata": {
        "execution": {
          "iopub.execute_input": "2025-04-10T21:01:57.127955Z",
          "iopub.status.busy": "2025-04-10T21:01:57.127552Z",
          "iopub.status.idle": "2025-04-10T21:01:57.132044Z",
          "shell.execute_reply": "2025-04-10T21:01:57.130695Z"
        },
        "papermill": {
          "duration": 0.023077,
          "end_time": "2025-04-10T21:01:57.134473",
          "exception": false,
          "start_time": "2025-04-10T21:01:57.111396",
          "status": "completed"
        },
        "tags": [],
        "id": "0ccc11d2"
      },
      "outputs": [],
      "source": [
        "#getting count for all qualitative columns\n",
        "for col in qualitative_columns :\n",
        "    print(f\"{col}: {df[col].nunique()}\")"
      ]
    },
    {
      "cell_type": "code",
      "execution_count": null,
      "id": "9297fc99",
      "metadata": {
        "execution": {
          "iopub.execute_input": "2025-04-10T21:01:57.163629Z",
          "iopub.status.busy": "2025-04-10T21:01:57.163161Z",
          "iopub.status.idle": "2025-04-10T21:01:57.167642Z",
          "shell.execute_reply": "2025-04-10T21:01:57.166189Z"
        },
        "papermill": {
          "duration": 0.022261,
          "end_time": "2025-04-10T21:01:57.170444",
          "exception": false,
          "start_time": "2025-04-10T21:01:57.148183",
          "status": "completed"
        },
        "tags": [],
        "id": "9297fc99"
      },
      "outputs": [],
      "source": [
        "#same thing but for num columns\n",
        "numerical_columns = df.select_dtypes(include='number').columns\n",
        "numerical_columns"
      ]
    },
    {
      "cell_type": "code",
      "execution_count": null,
      "id": "ed0a0604",
      "metadata": {
        "execution": {
          "iopub.execute_input": "2025-04-10T21:01:57.199493Z",
          "iopub.status.busy": "2025-04-10T21:01:57.199041Z",
          "iopub.status.idle": "2025-04-10T21:01:57.203150Z",
          "shell.execute_reply": "2025-04-10T21:01:57.201960Z"
        },
        "papermill": {
          "duration": 0.019746,
          "end_time": "2025-04-10T21:01:57.204871",
          "exception": false,
          "start_time": "2025-04-10T21:01:57.185125",
          "status": "completed"
        },
        "tags": [],
        "id": "ed0a0604"
      },
      "outputs": [],
      "source": [
        "for col in numerical_columns :\n",
        "    print(f\"{col}: {df[col].nunique()}\")"
      ]
    },
    {
      "cell_type": "code",
      "execution_count": null,
      "id": "8832f070",
      "metadata": {
        "execution": {
          "iopub.execute_input": "2025-04-10T21:01:57.233389Z",
          "iopub.status.busy": "2025-04-10T21:01:57.232966Z",
          "iopub.status.idle": "2025-04-10T21:01:57.237846Z",
          "shell.execute_reply": "2025-04-10T21:01:57.236618Z"
        },
        "papermill": {
          "duration": 0.021662,
          "end_time": "2025-04-10T21:01:57.239687",
          "exception": false,
          "start_time": "2025-04-10T21:01:57.218025",
          "status": "completed"
        },
        "tags": [],
        "id": "8832f070"
      },
      "outputs": [],
      "source": [
        "redundant_features = ['IsFlightsDisabled', 'IsBetaUser','AutoSampleSubmissionEnabled','DeviceFamily','MachineID']\n",
        "\n",
        "# df.drop(redundant_features, axis=1, inplace=True)\n",
        "\n",
        "for feature in redundant_features :\n",
        "    if feature in df.columns :\n",
        "        df.drop(columns=feature, inplace=True)"
      ]
    },
    {
      "cell_type": "code",
      "execution_count": null,
      "id": "51795b99",
      "metadata": {
        "execution": {
          "iopub.execute_input": "2025-04-10T21:01:57.268716Z",
          "iopub.status.busy": "2025-04-10T21:01:57.268247Z",
          "iopub.status.idle": "2025-04-10T21:01:57.272504Z",
          "shell.execute_reply": "2025-04-10T21:01:57.271350Z"
        },
        "papermill": {
          "duration": 0.020237,
          "end_time": "2025-04-10T21:01:57.274399",
          "exception": false,
          "start_time": "2025-04-10T21:01:57.254162",
          "status": "completed"
        },
        "tags": [],
        "id": "51795b99"
      },
      "outputs": [],
      "source": [
        "df.head()"
      ]
    },
    {
      "cell_type": "code",
      "execution_count": null,
      "id": "a36d4780",
      "metadata": {
        "execution": {
          "iopub.execute_input": "2025-04-10T21:01:57.301138Z",
          "iopub.status.busy": "2025-04-10T21:01:57.300804Z",
          "iopub.status.idle": "2025-04-10T21:01:57.304974Z",
          "shell.execute_reply": "2025-04-10T21:01:57.303659Z"
        },
        "papermill": {
          "duration": 0.019564,
          "end_time": "2025-04-10T21:01:57.307037",
          "exception": false,
          "start_time": "2025-04-10T21:01:57.287473",
          "status": "completed"
        },
        "tags": [],
        "id": "a36d4780"
      },
      "outputs": [],
      "source": [
        "bool_features = []\n",
        "for col in df.columns:\n",
        "  if df[col].nunique() == 2 :\n",
        "    bool_features += [col]\n",
        "\n",
        "bool_features"
      ]
    },
    {
      "cell_type": "markdown",
      "id": "866d1994",
      "metadata": {
        "papermill": {
          "duration": 0.012481,
          "end_time": "2025-04-10T21:01:57.332511",
          "exception": false,
          "start_time": "2025-04-10T21:01:57.320030",
          "status": "completed"
        },
        "tags": [],
        "id": "866d1994"
      },
      "source": [
        "### Feature Understanding"
      ]
    },
    {
      "cell_type": "code",
      "execution_count": null,
      "id": "72a1753d",
      "metadata": {
        "execution": {
          "iopub.execute_input": "2025-04-10T21:01:57.359100Z",
          "iopub.status.busy": "2025-04-10T21:01:57.358764Z",
          "iopub.status.idle": "2025-04-10T21:01:57.363138Z",
          "shell.execute_reply": "2025-04-10T21:01:57.361773Z"
        },
        "papermill": {
          "duration": 0.019805,
          "end_time": "2025-04-10T21:01:57.365105",
          "exception": false,
          "start_time": "2025-04-10T21:01:57.345300",
          "status": "completed"
        },
        "tags": [],
        "id": "72a1753d"
      },
      "outputs": [],
      "source": [
        "plt.figure(figsize=(8, 6))\n",
        "sns.countplot(x='target', data=df)\n",
        "plt.title('Distribution of Target Variable')\n",
        "plt.xlabel('Target')\n",
        "plt.ylabel('Count')"
      ]
    },
    {
      "cell_type": "code",
      "execution_count": null,
      "id": "689b88ab",
      "metadata": {
        "execution": {
          "iopub.execute_input": "2025-04-10T21:01:57.391401Z",
          "iopub.status.busy": "2025-04-10T21:01:57.391024Z",
          "iopub.status.idle": "2025-04-10T21:01:57.394741Z",
          "shell.execute_reply": "2025-04-10T21:01:57.393817Z"
        },
        "papermill": {
          "duration": 0.01885,
          "end_time": "2025-04-10T21:01:57.396381",
          "exception": false,
          "start_time": "2025-04-10T21:01:57.377531",
          "status": "completed"
        },
        "tags": [],
        "id": "689b88ab"
      },
      "outputs": [],
      "source": [
        "numerical_columns = df.select_dtypes(include='number').columns\n",
        "df[numerical_columns].hist(figsize=(20, 20), bins=20, color='skyblue', edgecolor='black')\n",
        "plt.suptitle(\"Distributions of Numerical Features\\n\")\n",
        "plt.tight_layout()\n",
        "plt.show()\n"
      ]
    },
    {
      "cell_type": "markdown",
      "id": "ce89312d",
      "metadata": {
        "papermill": {
          "duration": 0.012662,
          "end_time": "2025-04-10T21:01:57.422635",
          "exception": false,
          "start_time": "2025-04-10T21:01:57.409973",
          "status": "completed"
        },
        "tags": [],
        "id": "ce89312d"
      },
      "source": [
        "From the histograms, here are some general observations and inferences:\n",
        "\n",
        "1) <u> Binary Features </u>:\n",
        "    Many features (like `IsBetaUser`, `IsSystemProtected`, `IsSecureBootEnabled`, etc.) are binary, meaning perhaps common system settings; whereas, some binary features appear highly imbalanced (e.g., `RealTimeProtectionState`, `IsFlightDisabled`, `IsTouchEnabled`), which suggests most systems have similar settings.\n",
        "\n",
        "2) <u> Skewed Distributions </u>:\n",
        "    Several features, like `PrimaryDiskCapacityMB`, `SystemVolumeCapacityMB`, `TotalPhysicalRAMMB`, have a right-skewed distribution, meaning a small number of systems have significantly larger disk or RAM capacities, hence suggesting most systems have standard specs and only few people with high-ends ones.\n",
        "\n",
        "3) <u> Categorical Variables </u>:\n",
        "    Features such as `CityID`, `LocaleEnglishNameID`, `OSBuildNumber`, `ProcessorModelID`, and `CEMNameID` have a large number of unique values representing categorical values. Some of these show a dominance which explains there being some configurations or locations that are more common than others.\n",
        "\n",
        "4) <u> Possible Correlations </u>:\n",
        "    Features like `ProcessorCoreCount`, `TotalPhysicalRAMMB`, `PrimaryDiskCapacityMB` likely correlate since high-end PCs would have better overall hardware in general, as do software-related features like `OSBuildNumber`, `OSProductSuite` and `OSLocaleID`. This is someone we could check in the future.\n",
        "\n",
        "5) <u> Possible Outliers </u>:\n",
        "    Features like `ProcessorCoreCount` and `InternalBatteryNumberOfCharges` show some extreme values, meaning there could be outliers. We may need to further look into this in the next steps of EDA."
      ]
    },
    {
      "cell_type": "markdown",
      "id": "99b04457",
      "metadata": {
        "papermill": {
          "duration": 0.012254,
          "end_time": "2025-04-10T21:01:57.449611",
          "exception": false,
          "start_time": "2025-04-10T21:01:57.437357",
          "status": "completed"
        },
        "tags": [],
        "id": "99b04457"
      },
      "source": [
        "### Plotting a heatmap to visualize correlation between features\n",
        "\n",
        "Note: As mentioned before, plotting only points with strong correlation. This also helps avoid clutter, and makes it easier to focus on the important parts. For such, the threshold for \"strong correlation\" is an absolute value of 0.5  "
      ]
    },
    {
      "cell_type": "code",
      "execution_count": null,
      "id": "41e9f3bf",
      "metadata": {
        "execution": {
          "iopub.execute_input": "2025-04-10T21:01:57.477903Z",
          "iopub.status.busy": "2025-04-10T21:01:57.477506Z",
          "iopub.status.idle": "2025-04-10T21:01:57.481673Z",
          "shell.execute_reply": "2025-04-10T21:01:57.480488Z"
        },
        "papermill": {
          "duration": 0.019965,
          "end_time": "2025-04-10T21:01:57.483800",
          "exception": false,
          "start_time": "2025-04-10T21:01:57.463835",
          "status": "completed"
        },
        "tags": [],
        "id": "41e9f3bf"
      },
      "outputs": [],
      "source": [
        "corr_matrix = df.select_dtypes(exclude='object').corr()\n",
        "plt.figure(figsize=(10, 8))\n",
        "sns.heatmap(corr_matrix, annot=False, cmap='coolwarm',linewidths=\"0.5\", xticklabels=True, yticklabels=True)\n",
        "plt.title('Correlation Heatmap of Numerical Features')\n",
        "plt.show()"
      ]
    },
    {
      "cell_type": "code",
      "execution_count": null,
      "id": "d2c40c87",
      "metadata": {
        "execution": {
          "iopub.execute_input": "2025-04-10T21:01:57.511901Z",
          "iopub.status.busy": "2025-04-10T21:01:57.511546Z",
          "iopub.status.idle": "2025-04-10T21:01:57.515610Z",
          "shell.execute_reply": "2025-04-10T21:01:57.514479Z"
        },
        "papermill": {
          "duration": 0.020236,
          "end_time": "2025-04-10T21:01:57.517585",
          "exception": false,
          "start_time": "2025-04-10T21:01:57.497349",
          "status": "completed"
        },
        "tags": [],
        "id": "d2c40c87"
      },
      "outputs": [],
      "source": [
        "for feature in bool_features:\n",
        "  plt.figure(figsize=(7, 3))\n",
        "  sns.countplot(data=df, x=feature, hue='target')\n",
        "  plt.xlabel(feature, fontsize=12)\n",
        "  plt.ylabel('Density', fontsize=12)\n",
        "  plt.show()"
      ]
    },
    {
      "cell_type": "markdown",
      "id": "a1be2160",
      "metadata": {
        "papermill": {
          "duration": 0.012817,
          "end_time": "2025-04-10T21:01:57.542965",
          "exception": false,
          "start_time": "2025-04-10T21:01:57.530148",
          "status": "completed"
        },
        "tags": [],
        "id": "a1be2160"
      },
      "source": [
        "### Plotting boxplot graphs to look for outliers"
      ]
    },
    {
      "cell_type": "code",
      "execution_count": null,
      "id": "69e4fbe6",
      "metadata": {
        "execution": {
          "iopub.execute_input": "2025-04-10T21:01:57.569242Z",
          "iopub.status.busy": "2025-04-10T21:01:57.568884Z",
          "iopub.status.idle": "2025-04-10T21:01:57.573210Z",
          "shell.execute_reply": "2025-04-10T21:01:57.572097Z"
        },
        "papermill": {
          "duration": 0.019606,
          "end_time": "2025-04-10T21:01:57.575023",
          "exception": false,
          "start_time": "2025-04-10T21:01:57.555417",
          "status": "completed"
        },
        "tags": [],
        "id": "69e4fbe6"
      },
      "outputs": [],
      "source": [
        "features = ['ProcessorCoreCount', 'OSBuildNumber']\n",
        "for feature in features :\n",
        "    plt.figure(figsize=(11,5))\n",
        "    sns.boxplot(x='target', y=feature, data=df, palette='coolwarm')\n",
        "    plt.title(f\"{feature} vs Target\", fontsize=14, fontweight='bold')\n",
        "    plt.xlabel(\"Target\", fontsize=12)\n",
        "    plt.ylabel(feature, fontsize=12)\n",
        "    plt.tight_layout()\n",
        "    plt.show()"
      ]
    },
    {
      "cell_type": "markdown",
      "id": "05c9f2d6",
      "metadata": {
        "papermill": {
          "duration": 0.014042,
          "end_time": "2025-04-10T21:01:57.602105",
          "exception": false,
          "start_time": "2025-04-10T21:01:57.588063",
          "status": "completed"
        },
        "tags": [],
        "id": "05c9f2d6"
      },
      "source": [
        "### Inferences\n",
        "\n",
        "1) ProcessorCoreCount vs Target:\n",
        "    Most system have a low core count (2 to 8), and there are outliers with very high core counts (>10). However, the distribution looks similar for both classes (target 1 and 0), which would mean `ProcessorCoreCount` may ***not be a strong differentiator*** between malware-infected (1) and non-infected (0) systems.\n",
        "   \n",
        "2) OSBuildNumber vs Target:\n",
        "    On the other hand, the `OSBuildNumber` distribution is noticeably different between the two target classes. Non-infected (target=0) or malware-free systems have a wider range of OS build versions, with extreme lower outliers. Whereas, Infected systems (target = 1) appear to have a more concentrated distribution with lower OS build numbers. This suggests that it is possible ***older OS builds are more prone to malwares*** or that ***newer builds are more resistant***.\n",
        "\n",
        "\n",
        "Naturally, these do make sense because in malware detection, software-related factors, such as the OS version,installed security patches and system configurations tend to have a stronger impact than hardware specs like CPU core count. The boxplot *suggests* that older OS builds may be more vulnerable, which aligns with our understanding that outdated systems lack security-patches, making them easier targets."
      ]
    },
    {
      "cell_type": "markdown",
      "id": "72e1c5db",
      "metadata": {
        "papermill": {
          "duration": 0.014214,
          "end_time": "2025-04-10T21:01:57.629349",
          "exception": false,
          "start_time": "2025-04-10T21:01:57.615135",
          "status": "completed"
        },
        "tags": [],
        "id": "72e1c5db"
      },
      "source": [
        "----"
      ]
    },
    {
      "cell_type": "markdown",
      "id": "336ddd99",
      "metadata": {
        "papermill": {
          "duration": 0.01223,
          "end_time": "2025-04-10T21:01:57.654777",
          "exception": false,
          "start_time": "2025-04-10T21:01:57.642547",
          "status": "completed"
        },
        "tags": [],
        "id": "336ddd99"
      },
      "source": [
        "# MODEL BUILDING"
      ]
    },
    {
      "cell_type": "markdown",
      "id": "c5c8091d",
      "metadata": {
        "papermill": {
          "duration": 0.01365,
          "end_time": "2025-04-10T21:01:57.681029",
          "exception": false,
          "start_time": "2025-04-10T21:01:57.667379",
          "status": "completed"
        },
        "tags": [],
        "id": "c5c8091d"
      },
      "source": [
        "cleaning data for model building"
      ]
    },
    {
      "cell_type": "code",
      "execution_count": null,
      "id": "4ee373c0",
      "metadata": {
        "execution": {
          "iopub.execute_input": "2025-04-10T21:01:57.708386Z",
          "iopub.status.busy": "2025-04-10T21:01:57.708002Z",
          "iopub.status.idle": "2025-04-10T21:01:57.902553Z",
          "shell.execute_reply": "2025-04-10T21:01:57.901384Z"
        },
        "papermill": {
          "duration": 0.210101,
          "end_time": "2025-04-10T21:01:57.904336",
          "exception": false,
          "start_time": "2025-04-10T21:01:57.694235",
          "status": "completed"
        },
        "tags": [],
        "id": "4ee373c0",
        "outputId": "d76c0c26-cc3b-4121-b484-f984dca1f44c"
      },
      "outputs": [
        {
          "data": {
            "text/plain": [
              "MachineID             0\n",
              "ProductName           0\n",
              "EngineVersion         0\n",
              "AppVersion            0\n",
              "SignatureVersion      0\n",
              "                   ... \n",
              "IsGamer             559\n",
              "RegionIdentifier    559\n",
              "DateAS                0\n",
              "DateOS               24\n",
              "target                0\n",
              "Length: 76, dtype: int64"
            ]
          },
          "execution_count": 21,
          "metadata": {},
          "output_type": "execute_result"
        }
      ],
      "source": [
        "#to work on the original data set\n",
        "df = train_data.copy()\n",
        "df.isna().sum()"
      ]
    },
    {
      "cell_type": "code",
      "execution_count": null,
      "id": "09039393",
      "metadata": {
        "execution": {
          "iopub.execute_input": "2025-04-10T21:01:57.931219Z",
          "iopub.status.busy": "2025-04-10T21:01:57.930893Z",
          "iopub.status.idle": "2025-04-10T21:01:58.093129Z",
          "shell.execute_reply": "2025-04-10T21:01:58.091841Z"
        },
        "papermill": {
          "duration": 0.177492,
          "end_time": "2025-04-10T21:01:58.094917",
          "exception": false,
          "start_time": "2025-04-10T21:01:57.917425",
          "status": "completed"
        },
        "tags": [],
        "id": "09039393",
        "outputId": "4eb1eec7-04da-48fa-d08c-98cd93b95fd3"
      },
      "outputs": [
        {
          "data": {
            "text/plain": [
              "RealTimeProtectionState                66\n",
              "AntivirusConfigID                      76\n",
              "NumAntivirusProductsInstalled          76\n",
              "NumAntivirusProductsEnabled            76\n",
              "CityID                                623\n",
              "IsSystemProtected                      76\n",
              "SMode                                 981\n",
              "IEVersionID                           107\n",
              "FirewallEnabled                       166\n",
              "EnableLUA                              19\n",
              "OEMNameID                             212\n",
              "OEMModelID                            228\n",
              "ProcessorCoreCount                     85\n",
              "ProcessorManufacturerID                85\n",
              "ProcessorModelID                       85\n",
              "PrimaryDiskCapacityMB                 110\n",
              "PrimaryDiskType                        23\n",
              "SystemVolumeCapacityMB                110\n",
              "TotalPhysicalRAMMB                    151\n",
              "ChassisType                             2\n",
              "PrimaryDisplayDiagonalInches           72\n",
              "PrimaryDisplayResolutionHorizontal     72\n",
              "PrimaryDisplayResolutionVertical       72\n",
              "InternalBatteryNumberOfCharges        515\n",
              "OSInstallLanguageID                   113\n",
              "IsFlightsDisabled                     326\n",
              "FirmwareManufacturerID                376\n",
              "FirmwareVersionID                     334\n",
              "IsVirtualDevice                        20\n",
              "IsAlwaysOnAlwaysConnectedCapable      134\n",
              "IsGamer                               559\n",
              "RegionIdentifier                      559\n",
              "DateOS                                 24\n",
              "dtype: int64"
            ]
          },
          "execution_count": 22,
          "metadata": {},
          "output_type": "execute_result"
        }
      ],
      "source": [
        "#checking missing values\n",
        "missing_values = df.isna().sum()\n",
        "missing_values = missing_values[missing_values > 0]\n",
        "missing_values"
      ]
    },
    {
      "cell_type": "code",
      "execution_count": null,
      "id": "f04bb056",
      "metadata": {
        "execution": {
          "iopub.execute_input": "2025-04-10T21:01:58.123590Z",
          "iopub.status.busy": "2025-04-10T21:01:58.123160Z",
          "iopub.status.idle": "2025-04-10T21:01:58.127654Z",
          "shell.execute_reply": "2025-04-10T21:01:58.126426Z"
        },
        "papermill": {
          "duration": 0.021285,
          "end_time": "2025-04-10T21:01:58.129749",
          "exception": false,
          "start_time": "2025-04-10T21:01:58.108464",
          "status": "completed"
        },
        "tags": [],
        "id": "f04bb056"
      },
      "outputs": [],
      "source": [
        "# df['DateAS'] = pd.to_datetime(df['DateAS'])\n",
        "# df['DateOS'] = pd.to_datetime(df['DateOS'])"
      ]
    },
    {
      "cell_type": "code",
      "execution_count": null,
      "id": "a43e9380",
      "metadata": {
        "execution": {
          "iopub.execute_input": "2025-04-10T21:01:58.157375Z",
          "iopub.status.busy": "2025-04-10T21:01:58.156973Z",
          "iopub.status.idle": "2025-04-10T21:01:58.315219Z",
          "shell.execute_reply": "2025-04-10T21:01:58.314092Z"
        },
        "papermill": {
          "duration": 0.174133,
          "end_time": "2025-04-10T21:01:58.317455",
          "exception": false,
          "start_time": "2025-04-10T21:01:58.143322",
          "status": "completed"
        },
        "tags": [],
        "id": "a43e9380",
        "outputId": "60d5bc82-ae14-432e-f430-d16c4c2896ef"
      },
      "outputs": [
        {
          "data": {
            "text/plain": [
              "(100000, 71)"
            ]
          },
          "execution_count": 24,
          "metadata": {},
          "output_type": "execute_result"
        }
      ],
      "source": [
        "redundant_features = ['IsFlightsDisabled', 'IsBetaUser','AutoSampleSubmissionEnabled','DeviceFamily','MachineID']\n",
        "\n",
        "for feature in redundant_features :\n",
        "    if feature in df.columns :\n",
        "        df.drop(columns=feature, inplace=True)\n",
        "\n",
        "df.shape"
      ]
    },
    {
      "cell_type": "code",
      "execution_count": null,
      "id": "94dac69b",
      "metadata": {
        "execution": {
          "iopub.execute_input": "2025-04-10T21:01:58.344734Z",
          "iopub.status.busy": "2025-04-10T21:01:58.344389Z",
          "iopub.status.idle": "2025-04-10T21:01:58.516521Z",
          "shell.execute_reply": "2025-04-10T21:01:58.515362Z"
        },
        "papermill": {
          "duration": 0.187707,
          "end_time": "2025-04-10T21:01:58.518516",
          "exception": false,
          "start_time": "2025-04-10T21:01:58.330809",
          "status": "completed"
        },
        "tags": [],
        "id": "94dac69b"
      },
      "outputs": [],
      "source": [
        "# if the column has too many missing values, we drop it\n",
        "threshold = len(df) * 0.5\n",
        "df = df.dropna(thresh=threshold, axis=1)"
      ]
    },
    {
      "cell_type": "code",
      "execution_count": null,
      "id": "8e04493b",
      "metadata": {
        "execution": {
          "iopub.execute_input": "2025-04-10T21:01:58.546470Z",
          "iopub.status.busy": "2025-04-10T21:01:58.546053Z",
          "iopub.status.idle": "2025-04-10T21:01:58.970300Z",
          "shell.execute_reply": "2025-04-10T21:01:58.968986Z"
        },
        "papermill": {
          "duration": 0.440445,
          "end_time": "2025-04-10T21:01:58.972189",
          "exception": false,
          "start_time": "2025-04-10T21:01:58.531744",
          "status": "completed"
        },
        "tags": [],
        "id": "8e04493b"
      },
      "outputs": [],
      "source": [
        "#handle missing num and non-num values, by substituting mean and mode inplace respectively\n",
        "\n",
        "numerical_col = df.select_dtypes(include=np.number).columns\n",
        "categorical_col = df.select_dtypes(exclude=np.number).columns\n",
        "\n",
        "for col in numerical_col:\n",
        "  df[col].fillna(df[col].mean(), inplace=True)\n",
        "\n",
        "for col in categorical_col:\n",
        "  df[col].fillna(df[col].mode()[0], inplace=True)"
      ]
    },
    {
      "cell_type": "markdown",
      "id": "20302af8",
      "metadata": {
        "papermill": {
          "duration": 0.012984,
          "end_time": "2025-04-10T21:01:58.998801",
          "exception": false,
          "start_time": "2025-04-10T21:01:58.985817",
          "status": "completed"
        },
        "tags": [],
        "id": "20302af8"
      },
      "source": [
        "train-validation split"
      ]
    },
    {
      "cell_type": "code",
      "execution_count": null,
      "id": "e28aca3c",
      "metadata": {
        "execution": {
          "iopub.execute_input": "2025-04-10T21:01:59.025584Z",
          "iopub.status.busy": "2025-04-10T21:01:59.025179Z",
          "iopub.status.idle": "2025-04-10T21:01:59.539482Z",
          "shell.execute_reply": "2025-04-10T21:01:59.538489Z"
        },
        "papermill": {
          "duration": 0.529583,
          "end_time": "2025-04-10T21:01:59.541114",
          "exception": false,
          "start_time": "2025-04-10T21:01:59.011531",
          "status": "completed"
        },
        "tags": [],
        "id": "e28aca3c",
        "outputId": "8fb0c86b-7843-4e77-da16-34bec1ab418e"
      },
      "outputs": [
        {
          "data": {
            "text/plain": [
              "((80000, 70), (80000,), (20000, 70), (20000,))"
            ]
          },
          "execution_count": 27,
          "metadata": {},
          "output_type": "execute_result"
        }
      ],
      "source": [
        "from sklearn.model_selection import train_test_split\n",
        "\n",
        "X_train, X_val, y_train, y_val = train_test_split(df.drop(columns=['target']), df['target'], test_size=0.2, random_state=42, stratify=df['target'])\n",
        "\n",
        "X_train.shape, y_train.shape, X_val.shape, y_val.shape"
      ]
    },
    {
      "cell_type": "markdown",
      "id": "ac93a590",
      "metadata": {
        "papermill": {
          "duration": 0.013156,
          "end_time": "2025-04-10T21:01:59.625590",
          "exception": false,
          "start_time": "2025-04-10T21:01:59.612434",
          "status": "completed"
        },
        "tags": [],
        "id": "ac93a590"
      },
      "source": [
        "data processing"
      ]
    },
    {
      "cell_type": "code",
      "execution_count": null,
      "id": "37c4f8e4",
      "metadata": {
        "execution": {
          "iopub.execute_input": "2025-04-10T21:01:59.654862Z",
          "iopub.status.busy": "2025-04-10T21:01:59.654485Z",
          "iopub.status.idle": "2025-04-10T21:02:00.459376Z",
          "shell.execute_reply": "2025-04-10T21:02:00.458236Z"
        },
        "papermill": {
          "duration": 0.821219,
          "end_time": "2025-04-10T21:02:00.461231",
          "exception": false,
          "start_time": "2025-04-10T21:01:59.640012",
          "status": "completed"
        },
        "tags": [],
        "id": "37c4f8e4"
      },
      "outputs": [],
      "source": [
        "#i know i have handled the missing data before, but i wanted to show the method using SimpleImputer() aswell\n",
        "#i DO realize that this code is somewhat redundant, just wanted to cover all bases..\n",
        "\n",
        "from sklearn.preprocessing import StandardScaler, LabelEncoder\n",
        "from sklearn.impute import SimpleImputer\n",
        "\n",
        "numerical_col = X_train.select_dtypes(include=['float64', 'int64']).columns\n",
        "categorical_col = X_train.select_dtypes(include=['object']).columns\n",
        "\n",
        "if len(numerical_col) > 0 :\n",
        "  num_imputer = SimpleImputer(strategy='mean')\n",
        "  X_train[numerical_col] = num_imputer.fit_transform(X_train[numerical_col])\n",
        "  X_val[numerical_col] = num_imputer.transform(X_val[numerical_col])\n",
        "\n",
        "if len(categorical_col) > 0 :\n",
        "  cat_imputer = SimpleImputer(strategy='most_frequent')\n",
        "  X_train[categorical_col] = cat_imputer.fit_transform(X_train[categorical_col])\n",
        "  X_val[categorical_col] = cat_imputer.transform(X_val[categorical_col])"
      ]
    },
    {
      "cell_type": "code",
      "execution_count": null,
      "id": "2ccb3a47",
      "metadata": {
        "execution": {
          "iopub.execute_input": "2025-04-10T21:02:00.490669Z",
          "iopub.status.busy": "2025-04-10T21:02:00.490299Z",
          "iopub.status.idle": "2025-04-10T21:02:01.471569Z",
          "shell.execute_reply": "2025-04-10T21:02:01.470376Z"
        },
        "papermill": {
          "duration": 0.999002,
          "end_time": "2025-04-10T21:02:01.473516",
          "exception": false,
          "start_time": "2025-04-10T21:02:00.474514",
          "status": "completed"
        },
        "tags": [],
        "id": "2ccb3a47"
      },
      "outputs": [],
      "source": [
        "scaler = StandardScaler()\n",
        "X_train[numerical_col] = scaler.fit_transform(X_train[numerical_col])\n",
        "X_val[numerical_col] = scaler.transform(X_val[numerical_col])\n",
        "\n",
        "# decision tree gives errors for unknown values in columns, that is the validation set but not in the training set,\n",
        "# or vice versa\n",
        "# to handle that, we will look at all possible 'unknown values'\n",
        "\n",
        "encoders = {}\n",
        "for col in categorical_col :\n",
        "  # ValueError: y contains previously unseen labels: '2e5330d28fbc38a45c1f733f7f61bac8'\n",
        "  train_unique = set(X_train[col].unique())\n",
        "  val_unique = set(X_val[col].unique())\n",
        "\n",
        "  unknowns = val_unique - train_unique\n",
        "\n",
        "  if unknowns :\n",
        "    most_frequent = X_train[col].mode()[0]\n",
        "    X_train.loc[X_train[col].isin(unknowns), col] = most_frequent\n",
        "    X_val.loc[X_val[col].isin(unknowns), col] = most_frequent\n",
        "\n",
        "  le = LabelEncoder()\n",
        "  X_train[col] = le.fit_transform(X_train[col])\n",
        "  X_val[col] = le.transform(X_val[col])\n",
        "  encoders[col] = le"
      ]
    },
    {
      "cell_type": "markdown",
      "id": "1b3aea98",
      "metadata": {
        "papermill": {
          "duration": 0.012642,
          "end_time": "2025-04-10T21:02:01.499326",
          "exception": false,
          "start_time": "2025-04-10T21:02:01.486684",
          "status": "completed"
        },
        "tags": [],
        "id": "1b3aea98"
      },
      "source": [
        "### Models:\n",
        "* random forest\n",
        "* light bgm\n",
        "* ada boost classifier\n",
        "* xgboost\n",
        "* logistic regression"
      ]
    },
    {
      "cell_type": "markdown",
      "id": "2628e0a3",
      "metadata": {
        "papermill": {
          "duration": 0.012401,
          "end_time": "2025-04-10T21:02:01.524588",
          "exception": false,
          "start_time": "2025-04-10T21:02:01.512187",
          "status": "completed"
        },
        "tags": [],
        "id": "2628e0a3"
      },
      "source": [
        "## RandomForest"
      ]
    },
    {
      "cell_type": "code",
      "execution_count": null,
      "id": "42a62205",
      "metadata": {
        "execution": {
          "iopub.execute_input": "2025-04-10T21:02:01.551310Z",
          "iopub.status.busy": "2025-04-10T21:02:01.550918Z",
          "iopub.status.idle": "2025-04-10T21:12:56.471094Z",
          "shell.execute_reply": "2025-04-10T21:12:56.469752Z"
        },
        "papermill": {
          "duration": 654.949037,
          "end_time": "2025-04-10T21:12:56.486237",
          "exception": false,
          "start_time": "2025-04-10T21:02:01.537200",
          "status": "completed"
        },
        "tags": [],
        "id": "42a62205",
        "outputId": "4bb0b0eb-aa67-44c8-f5da-d3dc8271c3f8"
      },
      "outputs": [
        {
          "name": "stdout",
          "output_type": "stream",
          "text": [
            "Fitting 3 folds for each of 24 candidates, totalling 72 fits\n"
          ]
        },
        {
          "data": {
            "text/html": [
              "<style>#sk-container-id-1 {color: black;background-color: white;}#sk-container-id-1 pre{padding: 0;}#sk-container-id-1 div.sk-toggleable {background-color: white;}#sk-container-id-1 label.sk-toggleable__label {cursor: pointer;display: block;width: 100%;margin-bottom: 0;padding: 0.3em;box-sizing: border-box;text-align: center;}#sk-container-id-1 label.sk-toggleable__label-arrow:before {content: \"▸\";float: left;margin-right: 0.25em;color: #696969;}#sk-container-id-1 label.sk-toggleable__label-arrow:hover:before {color: black;}#sk-container-id-1 div.sk-estimator:hover label.sk-toggleable__label-arrow:before {color: black;}#sk-container-id-1 div.sk-toggleable__content {max-height: 0;max-width: 0;overflow: hidden;text-align: left;background-color: #f0f8ff;}#sk-container-id-1 div.sk-toggleable__content pre {margin: 0.2em;color: black;border-radius: 0.25em;background-color: #f0f8ff;}#sk-container-id-1 input.sk-toggleable__control:checked~div.sk-toggleable__content {max-height: 200px;max-width: 100%;overflow: auto;}#sk-container-id-1 input.sk-toggleable__control:checked~label.sk-toggleable__label-arrow:before {content: \"▾\";}#sk-container-id-1 div.sk-estimator input.sk-toggleable__control:checked~label.sk-toggleable__label {background-color: #d4ebff;}#sk-container-id-1 div.sk-label input.sk-toggleable__control:checked~label.sk-toggleable__label {background-color: #d4ebff;}#sk-container-id-1 input.sk-hidden--visually {border: 0;clip: rect(1px 1px 1px 1px);clip: rect(1px, 1px, 1px, 1px);height: 1px;margin: -1px;overflow: hidden;padding: 0;position: absolute;width: 1px;}#sk-container-id-1 div.sk-estimator {font-family: monospace;background-color: #f0f8ff;border: 1px dotted black;border-radius: 0.25em;box-sizing: border-box;margin-bottom: 0.5em;}#sk-container-id-1 div.sk-estimator:hover {background-color: #d4ebff;}#sk-container-id-1 div.sk-parallel-item::after {content: \"\";width: 100%;border-bottom: 1px solid gray;flex-grow: 1;}#sk-container-id-1 div.sk-label:hover label.sk-toggleable__label {background-color: #d4ebff;}#sk-container-id-1 div.sk-serial::before {content: \"\";position: absolute;border-left: 1px solid gray;box-sizing: border-box;top: 0;bottom: 0;left: 50%;z-index: 0;}#sk-container-id-1 div.sk-serial {display: flex;flex-direction: column;align-items: center;background-color: white;padding-right: 0.2em;padding-left: 0.2em;position: relative;}#sk-container-id-1 div.sk-item {position: relative;z-index: 1;}#sk-container-id-1 div.sk-parallel {display: flex;align-items: stretch;justify-content: center;background-color: white;position: relative;}#sk-container-id-1 div.sk-item::before, #sk-container-id-1 div.sk-parallel-item::before {content: \"\";position: absolute;border-left: 1px solid gray;box-sizing: border-box;top: 0;bottom: 0;left: 50%;z-index: -1;}#sk-container-id-1 div.sk-parallel-item {display: flex;flex-direction: column;z-index: 1;position: relative;background-color: white;}#sk-container-id-1 div.sk-parallel-item:first-child::after {align-self: flex-end;width: 50%;}#sk-container-id-1 div.sk-parallel-item:last-child::after {align-self: flex-start;width: 50%;}#sk-container-id-1 div.sk-parallel-item:only-child::after {width: 0;}#sk-container-id-1 div.sk-dashed-wrapped {border: 1px dashed gray;margin: 0 0.4em 0.5em 0.4em;box-sizing: border-box;padding-bottom: 0.4em;background-color: white;}#sk-container-id-1 div.sk-label label {font-family: monospace;font-weight: bold;display: inline-block;line-height: 1.2em;}#sk-container-id-1 div.sk-label-container {text-align: center;}#sk-container-id-1 div.sk-container {/* jupyter's `normalize.less` sets `[hidden] { display: none; }` but bootstrap.min.css set `[hidden] { display: none !important; }` so we also need the `!important` here to be able to override the default hidden behavior on the sphinx rendered scikit-learn.org. See: https://github.com/scikit-learn/scikit-learn/issues/21755 */display: inline-block !important;position: relative;}#sk-container-id-1 div.sk-text-repr-fallback {display: none;}</style><div id=\"sk-container-id-1\" class=\"sk-top-container\"><div class=\"sk-text-repr-fallback\"><pre>RandomForestClassifier(class_weight=&#x27;balanced&#x27;, min_samples_leaf=2,\n",
              "                       min_samples_split=20, n_estimators=200, random_state=42)</pre><b>In a Jupyter environment, please rerun this cell to show the HTML representation or trust the notebook. <br />On GitHub, the HTML representation is unable to render, please try loading this page with nbviewer.org.</b></div><div class=\"sk-container\" hidden><div class=\"sk-item\"><div class=\"sk-estimator sk-toggleable\"><input class=\"sk-toggleable__control sk-hidden--visually\" id=\"sk-estimator-id-1\" type=\"checkbox\" checked><label for=\"sk-estimator-id-1\" class=\"sk-toggleable__label sk-toggleable__label-arrow\">RandomForestClassifier</label><div class=\"sk-toggleable__content\"><pre>RandomForestClassifier(class_weight=&#x27;balanced&#x27;, min_samples_leaf=2,\n",
              "                       min_samples_split=20, n_estimators=200, random_state=42)</pre></div></div></div></div></div>"
            ],
            "text/plain": [
              "RandomForestClassifier(class_weight='balanced', min_samples_leaf=2,\n",
              "                       min_samples_split=20, n_estimators=200, random_state=42)"
            ]
          },
          "execution_count": 30,
          "metadata": {},
          "output_type": "execute_result"
        }
      ],
      "source": [
        "from sklearn.ensemble import RandomForestClassifier\n",
        "from sklearn.model_selection import GridSearchCV\n",
        "\n",
        "rf = RandomForestClassifier(random_state=42, class_weight='balanced')\n",
        "\n",
        "rf_params = {\n",
        "    'n_estimators': [100, 200],\n",
        "    'max_depth' : [10, None],\n",
        "    'min_samples_split' : [5, 10 ,20],\n",
        "    'min_samples_leaf' : [2, 5]\n",
        "}\n",
        "\n",
        "rf_grid = GridSearchCV(\n",
        "    rf,\n",
        "    rf_params,\n",
        "    cv=3,\n",
        "    scoring='accuracy',\n",
        "    n_jobs=-1,\n",
        "    verbose=1\n",
        ")\n",
        "\n",
        "rf_grid.fit(X_train, y_train)\n",
        "rf_grid.best_params_\n",
        "\n",
        "rf_best_model = rf_grid.best_estimator_\n",
        "rf_best_model"
      ]
    },
    {
      "cell_type": "code",
      "execution_count": null,
      "id": "4cdab415",
      "metadata": {
        "execution": {
          "iopub.execute_input": "2025-04-10T21:12:56.515486Z",
          "iopub.status.busy": "2025-04-10T21:12:56.515046Z",
          "iopub.status.idle": "2025-04-10T21:12:57.960916Z",
          "shell.execute_reply": "2025-04-10T21:12:57.959748Z"
        },
        "papermill": {
          "duration": 1.462762,
          "end_time": "2025-04-10T21:12:57.962850",
          "exception": false,
          "start_time": "2025-04-10T21:12:56.500088",
          "status": "completed"
        },
        "tags": [],
        "id": "4cdab415",
        "outputId": "b58f4705-37e1-4a7e-d11e-6d0495bf89a2"
      },
      "outputs": [
        {
          "name": "stdout",
          "output_type": "stream",
          "text": [
            "Accuracy: 0.6233\n"
          ]
        }
      ],
      "source": [
        "from sklearn.metrics import accuracy_score\n",
        "\n",
        "y_pred_rf = rf_best_model.predict(X_val)\n",
        "\n",
        "print(f\"Accuracy: {accuracy_score(y_val,y_pred_rf)}\")"
      ]
    },
    {
      "cell_type": "markdown",
      "id": "06e78e4a",
      "metadata": {
        "papermill": {
          "duration": 0.013865,
          "end_time": "2025-04-10T21:12:58.024784",
          "exception": false,
          "start_time": "2025-04-10T21:12:58.010919",
          "status": "completed"
        },
        "tags": [],
        "id": "06e78e4a"
      },
      "source": [
        "## LightGBM"
      ]
    },
    {
      "cell_type": "code",
      "execution_count": null,
      "id": "3a7f4a7a",
      "metadata": {
        "execution": {
          "iopub.execute_input": "2025-04-10T21:12:58.053330Z",
          "iopub.status.busy": "2025-04-10T21:12:58.052945Z",
          "iopub.status.idle": "2025-04-10T21:15:54.016671Z",
          "shell.execute_reply": "2025-04-10T21:15:54.015418Z"
        },
        "papermill": {
          "duration": 175.980015,
          "end_time": "2025-04-10T21:15:54.018725",
          "exception": false,
          "start_time": "2025-04-10T21:12:58.038710",
          "status": "completed"
        },
        "tags": [],
        "id": "3a7f4a7a",
        "outputId": "9f671fe6-d918-4df7-c1c3-a3d8d705f483"
      },
      "outputs": [
        {
          "name": "stdout",
          "output_type": "stream",
          "text": [
            "Fitting 5 folds for each of 10 candidates, totalling 50 fits\n",
            "[LightGBM] [Info] Number of positive: 40420, number of negative: 39580\n",
            "[LightGBM] [Info] Auto-choosing row-wise multi-threading, the overhead of testing was 0.016404 seconds.\n",
            "You can set `force_row_wise=true` to remove the overhead.\n",
            "And if memory is not enough, you can set `force_col_wise=true`.\n",
            "[LightGBM] [Info] Total Bins 4789\n",
            "[LightGBM] [Info] Number of data points in the train set: 80000, number of used features: 70\n",
            "[LightGBM] [Info] [binary:BoostFromScore]: pavg=0.505250 -> initscore=0.021001\n",
            "[LightGBM] [Info] Start training from score 0.021001\n",
            "[LightGBM] [Warning] No further splits with positive gain, best gain: -inf\n",
            "[LightGBM] [Warning] No further splits with positive gain, best gain: -inf\n",
            "[LightGBM] [Warning] No further splits with positive gain, best gain: -inf\n",
            "[LightGBM] [Warning] No further splits with positive gain, best gain: -inf\n"
          ]
        }
      ],
      "source": [
        "from lightgbm import LGBMClassifier\n",
        "from sklearn.model_selection import RandomizedSearchCV\n",
        "\n",
        "lgb = LGBMClassifier(random_state=42)\n",
        "\n",
        "param_grid_lgb = {\n",
        "    'n_estimators': [150, 200],\n",
        "    'max_depth': [3, 5, 7, 9],\n",
        "    'learning_rate': [0.01, 0.05, 0.1, 0.2],\n",
        "    'subsample': [0.6, 0.8, 1.0],\n",
        "    'colsample_bytree': [0.6, 0.8, 1.0],\n",
        "    'min_child_samples': [10, 20, 30],\n",
        "    'reg_alpha': np.linspace(0, 1, 5),\n",
        "    'reg_lambda': np.linspace(0, 1, 5)\n",
        "}\n",
        "\n",
        "lgb_random_search = RandomizedSearchCV(\n",
        "    estimator=lgb,\n",
        "    param_distributions=param_grid_lgb,\n",
        "    n_iter=10,\n",
        "    cv=5,\n",
        "    scoring='accuracy',\n",
        "    n_jobs=-1,\n",
        "    verbose=1,\n",
        "    random_state=42\n",
        ")\n",
        "\n",
        "lgb_random_search.fit(X_train, y_train)\n",
        "\n",
        "lgb_best_model = lgb_random_search.best_estimator_"
      ]
    },
    {
      "cell_type": "code",
      "execution_count": null,
      "id": "846897a5",
      "metadata": {
        "execution": {
          "iopub.execute_input": "2025-04-10T21:15:54.048764Z",
          "iopub.status.busy": "2025-04-10T21:15:54.048035Z",
          "iopub.status.idle": "2025-04-10T21:15:54.232408Z",
          "shell.execute_reply": "2025-04-10T21:15:54.231155Z"
        },
        "papermill": {
          "duration": 0.201983,
          "end_time": "2025-04-10T21:15:54.234595",
          "exception": false,
          "start_time": "2025-04-10T21:15:54.032612",
          "status": "completed"
        },
        "tags": [],
        "id": "846897a5",
        "outputId": "2d25c88c-509b-492f-ca1a-9ac16ca58535"
      },
      "outputs": [
        {
          "name": "stdout",
          "output_type": "stream",
          "text": [
            "Accuracy Score: 0.6313\n"
          ]
        }
      ],
      "source": [
        "y_pred_lgb = lgb_best_model.predict(X_val)\n",
        "\n",
        "print(f\"Accuracy Score: {accuracy_score(y_val, y_pred_lgb)}\")"
      ]
    },
    {
      "cell_type": "code",
      "execution_count": null,
      "id": "696b3f0d",
      "metadata": {
        "execution": {
          "iopub.execute_input": "2025-04-10T21:15:54.267818Z",
          "iopub.status.busy": "2025-04-10T21:15:54.267461Z",
          "iopub.status.idle": "2025-04-10T21:15:54.275844Z",
          "shell.execute_reply": "2025-04-10T21:15:54.274485Z"
        },
        "papermill": {
          "duration": 0.02622,
          "end_time": "2025-04-10T21:15:54.277705",
          "exception": false,
          "start_time": "2025-04-10T21:15:54.251485",
          "status": "completed"
        },
        "tags": [],
        "id": "696b3f0d",
        "outputId": "109b6c7e-921a-4d2f-ab81-5f4b93923ca0"
      },
      "outputs": [
        {
          "data": {
            "text/html": [
              "<style>#sk-container-id-2 {color: black;background-color: white;}#sk-container-id-2 pre{padding: 0;}#sk-container-id-2 div.sk-toggleable {background-color: white;}#sk-container-id-2 label.sk-toggleable__label {cursor: pointer;display: block;width: 100%;margin-bottom: 0;padding: 0.3em;box-sizing: border-box;text-align: center;}#sk-container-id-2 label.sk-toggleable__label-arrow:before {content: \"▸\";float: left;margin-right: 0.25em;color: #696969;}#sk-container-id-2 label.sk-toggleable__label-arrow:hover:before {color: black;}#sk-container-id-2 div.sk-estimator:hover label.sk-toggleable__label-arrow:before {color: black;}#sk-container-id-2 div.sk-toggleable__content {max-height: 0;max-width: 0;overflow: hidden;text-align: left;background-color: #f0f8ff;}#sk-container-id-2 div.sk-toggleable__content pre {margin: 0.2em;color: black;border-radius: 0.25em;background-color: #f0f8ff;}#sk-container-id-2 input.sk-toggleable__control:checked~div.sk-toggleable__content {max-height: 200px;max-width: 100%;overflow: auto;}#sk-container-id-2 input.sk-toggleable__control:checked~label.sk-toggleable__label-arrow:before {content: \"▾\";}#sk-container-id-2 div.sk-estimator input.sk-toggleable__control:checked~label.sk-toggleable__label {background-color: #d4ebff;}#sk-container-id-2 div.sk-label input.sk-toggleable__control:checked~label.sk-toggleable__label {background-color: #d4ebff;}#sk-container-id-2 input.sk-hidden--visually {border: 0;clip: rect(1px 1px 1px 1px);clip: rect(1px, 1px, 1px, 1px);height: 1px;margin: -1px;overflow: hidden;padding: 0;position: absolute;width: 1px;}#sk-container-id-2 div.sk-estimator {font-family: monospace;background-color: #f0f8ff;border: 1px dotted black;border-radius: 0.25em;box-sizing: border-box;margin-bottom: 0.5em;}#sk-container-id-2 div.sk-estimator:hover {background-color: #d4ebff;}#sk-container-id-2 div.sk-parallel-item::after {content: \"\";width: 100%;border-bottom: 1px solid gray;flex-grow: 1;}#sk-container-id-2 div.sk-label:hover label.sk-toggleable__label {background-color: #d4ebff;}#sk-container-id-2 div.sk-serial::before {content: \"\";position: absolute;border-left: 1px solid gray;box-sizing: border-box;top: 0;bottom: 0;left: 50%;z-index: 0;}#sk-container-id-2 div.sk-serial {display: flex;flex-direction: column;align-items: center;background-color: white;padding-right: 0.2em;padding-left: 0.2em;position: relative;}#sk-container-id-2 div.sk-item {position: relative;z-index: 1;}#sk-container-id-2 div.sk-parallel {display: flex;align-items: stretch;justify-content: center;background-color: white;position: relative;}#sk-container-id-2 div.sk-item::before, #sk-container-id-2 div.sk-parallel-item::before {content: \"\";position: absolute;border-left: 1px solid gray;box-sizing: border-box;top: 0;bottom: 0;left: 50%;z-index: -1;}#sk-container-id-2 div.sk-parallel-item {display: flex;flex-direction: column;z-index: 1;position: relative;background-color: white;}#sk-container-id-2 div.sk-parallel-item:first-child::after {align-self: flex-end;width: 50%;}#sk-container-id-2 div.sk-parallel-item:last-child::after {align-self: flex-start;width: 50%;}#sk-container-id-2 div.sk-parallel-item:only-child::after {width: 0;}#sk-container-id-2 div.sk-dashed-wrapped {border: 1px dashed gray;margin: 0 0.4em 0.5em 0.4em;box-sizing: border-box;padding-bottom: 0.4em;background-color: white;}#sk-container-id-2 div.sk-label label {font-family: monospace;font-weight: bold;display: inline-block;line-height: 1.2em;}#sk-container-id-2 div.sk-label-container {text-align: center;}#sk-container-id-2 div.sk-container {/* jupyter's `normalize.less` sets `[hidden] { display: none; }` but bootstrap.min.css set `[hidden] { display: none !important; }` so we also need the `!important` here to be able to override the default hidden behavior on the sphinx rendered scikit-learn.org. See: https://github.com/scikit-learn/scikit-learn/issues/21755 */display: inline-block !important;position: relative;}#sk-container-id-2 div.sk-text-repr-fallback {display: none;}</style><div id=\"sk-container-id-2\" class=\"sk-top-container\"><div class=\"sk-text-repr-fallback\"><pre>LGBMClassifier(colsample_bytree=0.8, max_depth=7, n_estimators=200,\n",
              "               random_state=42, reg_alpha=0.5, reg_lambda=0.75, subsample=0.6)</pre><b>In a Jupyter environment, please rerun this cell to show the HTML representation or trust the notebook. <br />On GitHub, the HTML representation is unable to render, please try loading this page with nbviewer.org.</b></div><div class=\"sk-container\" hidden><div class=\"sk-item\"><div class=\"sk-estimator sk-toggleable\"><input class=\"sk-toggleable__control sk-hidden--visually\" id=\"sk-estimator-id-2\" type=\"checkbox\" checked><label for=\"sk-estimator-id-2\" class=\"sk-toggleable__label sk-toggleable__label-arrow\">LGBMClassifier</label><div class=\"sk-toggleable__content\"><pre>LGBMClassifier(colsample_bytree=0.8, max_depth=7, n_estimators=200,\n",
              "               random_state=42, reg_alpha=0.5, reg_lambda=0.75, subsample=0.6)</pre></div></div></div></div></div>"
            ],
            "text/plain": [
              "LGBMClassifier(colsample_bytree=0.8, max_depth=7, n_estimators=200,\n",
              "               random_state=42, reg_alpha=0.5, reg_lambda=0.75, subsample=0.6)"
            ]
          },
          "execution_count": 35,
          "metadata": {},
          "output_type": "execute_result"
        }
      ],
      "source": [
        "lgb_best_model"
      ]
    },
    {
      "cell_type": "markdown",
      "id": "dd72e19f",
      "metadata": {
        "papermill": {
          "duration": 0.01515,
          "end_time": "2025-04-10T21:15:54.342476",
          "exception": false,
          "start_time": "2025-04-10T21:15:54.327326",
          "status": "completed"
        },
        "tags": [],
        "id": "dd72e19f"
      },
      "source": [
        "## AdaBoost"
      ]
    },
    {
      "cell_type": "code",
      "execution_count": null,
      "id": "9e3673dd",
      "metadata": {
        "execution": {
          "iopub.execute_input": "2025-04-10T21:15:54.372064Z",
          "iopub.status.busy": "2025-04-10T21:15:54.371735Z",
          "iopub.status.idle": "2025-04-10T21:28:03.471841Z",
          "shell.execute_reply": "2025-04-10T21:28:03.470491Z"
        },
        "papermill": {
          "duration": 729.131405,
          "end_time": "2025-04-10T21:28:03.488090",
          "exception": false,
          "start_time": "2025-04-10T21:15:54.356685",
          "status": "completed"
        },
        "tags": [],
        "id": "9e3673dd",
        "outputId": "1656421e-3753-4fdd-9fe1-1b7407d62e69"
      },
      "outputs": [
        {
          "name": "stdout",
          "output_type": "stream",
          "text": [
            "Fitting 5 folds for each of 12 candidates, totalling 60 fits\n"
          ]
        },
        {
          "data": {
            "text/html": [
              "<style>#sk-container-id-3 {color: black;background-color: white;}#sk-container-id-3 pre{padding: 0;}#sk-container-id-3 div.sk-toggleable {background-color: white;}#sk-container-id-3 label.sk-toggleable__label {cursor: pointer;display: block;width: 100%;margin-bottom: 0;padding: 0.3em;box-sizing: border-box;text-align: center;}#sk-container-id-3 label.sk-toggleable__label-arrow:before {content: \"▸\";float: left;margin-right: 0.25em;color: #696969;}#sk-container-id-3 label.sk-toggleable__label-arrow:hover:before {color: black;}#sk-container-id-3 div.sk-estimator:hover label.sk-toggleable__label-arrow:before {color: black;}#sk-container-id-3 div.sk-toggleable__content {max-height: 0;max-width: 0;overflow: hidden;text-align: left;background-color: #f0f8ff;}#sk-container-id-3 div.sk-toggleable__content pre {margin: 0.2em;color: black;border-radius: 0.25em;background-color: #f0f8ff;}#sk-container-id-3 input.sk-toggleable__control:checked~div.sk-toggleable__content {max-height: 200px;max-width: 100%;overflow: auto;}#sk-container-id-3 input.sk-toggleable__control:checked~label.sk-toggleable__label-arrow:before {content: \"▾\";}#sk-container-id-3 div.sk-estimator input.sk-toggleable__control:checked~label.sk-toggleable__label {background-color: #d4ebff;}#sk-container-id-3 div.sk-label input.sk-toggleable__control:checked~label.sk-toggleable__label {background-color: #d4ebff;}#sk-container-id-3 input.sk-hidden--visually {border: 0;clip: rect(1px 1px 1px 1px);clip: rect(1px, 1px, 1px, 1px);height: 1px;margin: -1px;overflow: hidden;padding: 0;position: absolute;width: 1px;}#sk-container-id-3 div.sk-estimator {font-family: monospace;background-color: #f0f8ff;border: 1px dotted black;border-radius: 0.25em;box-sizing: border-box;margin-bottom: 0.5em;}#sk-container-id-3 div.sk-estimator:hover {background-color: #d4ebff;}#sk-container-id-3 div.sk-parallel-item::after {content: \"\";width: 100%;border-bottom: 1px solid gray;flex-grow: 1;}#sk-container-id-3 div.sk-label:hover label.sk-toggleable__label {background-color: #d4ebff;}#sk-container-id-3 div.sk-serial::before {content: \"\";position: absolute;border-left: 1px solid gray;box-sizing: border-box;top: 0;bottom: 0;left: 50%;z-index: 0;}#sk-container-id-3 div.sk-serial {display: flex;flex-direction: column;align-items: center;background-color: white;padding-right: 0.2em;padding-left: 0.2em;position: relative;}#sk-container-id-3 div.sk-item {position: relative;z-index: 1;}#sk-container-id-3 div.sk-parallel {display: flex;align-items: stretch;justify-content: center;background-color: white;position: relative;}#sk-container-id-3 div.sk-item::before, #sk-container-id-3 div.sk-parallel-item::before {content: \"\";position: absolute;border-left: 1px solid gray;box-sizing: border-box;top: 0;bottom: 0;left: 50%;z-index: -1;}#sk-container-id-3 div.sk-parallel-item {display: flex;flex-direction: column;z-index: 1;position: relative;background-color: white;}#sk-container-id-3 div.sk-parallel-item:first-child::after {align-self: flex-end;width: 50%;}#sk-container-id-3 div.sk-parallel-item:last-child::after {align-self: flex-start;width: 50%;}#sk-container-id-3 div.sk-parallel-item:only-child::after {width: 0;}#sk-container-id-3 div.sk-dashed-wrapped {border: 1px dashed gray;margin: 0 0.4em 0.5em 0.4em;box-sizing: border-box;padding-bottom: 0.4em;background-color: white;}#sk-container-id-3 div.sk-label label {font-family: monospace;font-weight: bold;display: inline-block;line-height: 1.2em;}#sk-container-id-3 div.sk-label-container {text-align: center;}#sk-container-id-3 div.sk-container {/* jupyter's `normalize.less` sets `[hidden] { display: none; }` but bootstrap.min.css set `[hidden] { display: none !important; }` so we also need the `!important` here to be able to override the default hidden behavior on the sphinx rendered scikit-learn.org. See: https://github.com/scikit-learn/scikit-learn/issues/21755 */display: inline-block !important;position: relative;}#sk-container-id-3 div.sk-text-repr-fallback {display: none;}</style><div id=\"sk-container-id-3\" class=\"sk-top-container\"><div class=\"sk-text-repr-fallback\"><pre>AdaBoostClassifier(algorithm=&#x27;SAMME&#x27;, n_estimators=300, random_state=42)</pre><b>In a Jupyter environment, please rerun this cell to show the HTML representation or trust the notebook. <br />On GitHub, the HTML representation is unable to render, please try loading this page with nbviewer.org.</b></div><div class=\"sk-container\" hidden><div class=\"sk-item\"><div class=\"sk-estimator sk-toggleable\"><input class=\"sk-toggleable__control sk-hidden--visually\" id=\"sk-estimator-id-3\" type=\"checkbox\" checked><label for=\"sk-estimator-id-3\" class=\"sk-toggleable__label sk-toggleable__label-arrow\">AdaBoostClassifier</label><div class=\"sk-toggleable__content\"><pre>AdaBoostClassifier(algorithm=&#x27;SAMME&#x27;, n_estimators=300, random_state=42)</pre></div></div></div></div></div>"
            ],
            "text/plain": [
              "AdaBoostClassifier(algorithm='SAMME', n_estimators=300, random_state=42)"
            ]
          },
          "execution_count": 37,
          "metadata": {},
          "output_type": "execute_result"
        }
      ],
      "source": [
        "from sklearn.ensemble import AdaBoostClassifier\n",
        "from sklearn.tree import DecisionTreeClassifier\n",
        "\n",
        "\n",
        "abc = AdaBoostClassifier(random_state=42)\n",
        "\n",
        "param_grid = {\n",
        "    'n_estimators': [100, 200, 300],\n",
        "    'learning_rate': [5, 10],\n",
        "    'algorithm': ['SAMME'],\n",
        "    'learning_rate': [0.01, 0.05, 0.1, 1.0],\n",
        "}\n",
        "\n",
        "ada_grid = GridSearchCV(\n",
        "    estimator=abc,\n",
        "    param_grid=param_grid,\n",
        "    scoring='accuracy',\n",
        "    cv=5,\n",
        "    verbose=1,\n",
        "    n_jobs=-1\n",
        ")\n",
        "\n",
        "ada_grid.fit(X_train, y_train)\n",
        "\n",
        "ada_best_model = ada_grid.best_estimator_\n",
        "ada_best_model"
      ]
    },
    {
      "cell_type": "code",
      "execution_count": null,
      "id": "b166d3d4",
      "metadata": {
        "execution": {
          "iopub.execute_input": "2025-04-10T21:28:03.518029Z",
          "iopub.status.busy": "2025-04-10T21:28:03.517699Z",
          "iopub.status.idle": "2025-04-10T21:28:04.434196Z",
          "shell.execute_reply": "2025-04-10T21:28:04.433077Z"
        },
        "papermill": {
          "duration": 0.933518,
          "end_time": "2025-04-10T21:28:04.435870",
          "exception": false,
          "start_time": "2025-04-10T21:28:03.502352",
          "status": "completed"
        },
        "tags": [],
        "id": "b166d3d4",
        "outputId": "77e3332a-4782-49a3-c0b8-ebfcf12efb91"
      },
      "outputs": [
        {
          "name": "stdout",
          "output_type": "stream",
          "text": [
            "accuracy_score: 0.61575\n"
          ]
        }
      ],
      "source": [
        "y_pred_ada = ada_best_model.predict(X_val)\n",
        "print(f'accuracy_score: {accuracy_score(y_val, y_pred_ada)}')"
      ]
    },
    {
      "cell_type": "markdown",
      "id": "426dc1b3",
      "metadata": {
        "papermill": {
          "duration": 0.013871,
          "end_time": "2025-04-10T21:28:04.464612",
          "exception": false,
          "start_time": "2025-04-10T21:28:04.450741",
          "status": "completed"
        },
        "tags": [],
        "id": "426dc1b3"
      },
      "source": [
        "## XGBoost"
      ]
    },
    {
      "cell_type": "code",
      "execution_count": null,
      "id": "1f211b05",
      "metadata": {
        "execution": {
          "iopub.execute_input": "2025-04-10T21:28:04.494305Z",
          "iopub.status.busy": "2025-04-10T21:28:04.493910Z",
          "iopub.status.idle": "2025-04-10T21:28:15.798688Z",
          "shell.execute_reply": "2025-04-10T21:28:15.797608Z"
        },
        "papermill": {
          "duration": 11.321791,
          "end_time": "2025-04-10T21:28:15.800524",
          "exception": false,
          "start_time": "2025-04-10T21:28:04.478733",
          "status": "completed"
        },
        "tags": [],
        "id": "1f211b05",
        "outputId": "6a36552d-2c69-4c50-b7f6-a944cc69a394"
      },
      "outputs": [
        {
          "data": {
            "text/html": [
              "<style>#sk-container-id-4 {color: black;background-color: white;}#sk-container-id-4 pre{padding: 0;}#sk-container-id-4 div.sk-toggleable {background-color: white;}#sk-container-id-4 label.sk-toggleable__label {cursor: pointer;display: block;width: 100%;margin-bottom: 0;padding: 0.3em;box-sizing: border-box;text-align: center;}#sk-container-id-4 label.sk-toggleable__label-arrow:before {content: \"▸\";float: left;margin-right: 0.25em;color: #696969;}#sk-container-id-4 label.sk-toggleable__label-arrow:hover:before {color: black;}#sk-container-id-4 div.sk-estimator:hover label.sk-toggleable__label-arrow:before {color: black;}#sk-container-id-4 div.sk-toggleable__content {max-height: 0;max-width: 0;overflow: hidden;text-align: left;background-color: #f0f8ff;}#sk-container-id-4 div.sk-toggleable__content pre {margin: 0.2em;color: black;border-radius: 0.25em;background-color: #f0f8ff;}#sk-container-id-4 input.sk-toggleable__control:checked~div.sk-toggleable__content {max-height: 200px;max-width: 100%;overflow: auto;}#sk-container-id-4 input.sk-toggleable__control:checked~label.sk-toggleable__label-arrow:before {content: \"▾\";}#sk-container-id-4 div.sk-estimator input.sk-toggleable__control:checked~label.sk-toggleable__label {background-color: #d4ebff;}#sk-container-id-4 div.sk-label input.sk-toggleable__control:checked~label.sk-toggleable__label {background-color: #d4ebff;}#sk-container-id-4 input.sk-hidden--visually {border: 0;clip: rect(1px 1px 1px 1px);clip: rect(1px, 1px, 1px, 1px);height: 1px;margin: -1px;overflow: hidden;padding: 0;position: absolute;width: 1px;}#sk-container-id-4 div.sk-estimator {font-family: monospace;background-color: #f0f8ff;border: 1px dotted black;border-radius: 0.25em;box-sizing: border-box;margin-bottom: 0.5em;}#sk-container-id-4 div.sk-estimator:hover {background-color: #d4ebff;}#sk-container-id-4 div.sk-parallel-item::after {content: \"\";width: 100%;border-bottom: 1px solid gray;flex-grow: 1;}#sk-container-id-4 div.sk-label:hover label.sk-toggleable__label {background-color: #d4ebff;}#sk-container-id-4 div.sk-serial::before {content: \"\";position: absolute;border-left: 1px solid gray;box-sizing: border-box;top: 0;bottom: 0;left: 50%;z-index: 0;}#sk-container-id-4 div.sk-serial {display: flex;flex-direction: column;align-items: center;background-color: white;padding-right: 0.2em;padding-left: 0.2em;position: relative;}#sk-container-id-4 div.sk-item {position: relative;z-index: 1;}#sk-container-id-4 div.sk-parallel {display: flex;align-items: stretch;justify-content: center;background-color: white;position: relative;}#sk-container-id-4 div.sk-item::before, #sk-container-id-4 div.sk-parallel-item::before {content: \"\";position: absolute;border-left: 1px solid gray;box-sizing: border-box;top: 0;bottom: 0;left: 50%;z-index: -1;}#sk-container-id-4 div.sk-parallel-item {display: flex;flex-direction: column;z-index: 1;position: relative;background-color: white;}#sk-container-id-4 div.sk-parallel-item:first-child::after {align-self: flex-end;width: 50%;}#sk-container-id-4 div.sk-parallel-item:last-child::after {align-self: flex-start;width: 50%;}#sk-container-id-4 div.sk-parallel-item:only-child::after {width: 0;}#sk-container-id-4 div.sk-dashed-wrapped {border: 1px dashed gray;margin: 0 0.4em 0.5em 0.4em;box-sizing: border-box;padding-bottom: 0.4em;background-color: white;}#sk-container-id-4 div.sk-label label {font-family: monospace;font-weight: bold;display: inline-block;line-height: 1.2em;}#sk-container-id-4 div.sk-label-container {text-align: center;}#sk-container-id-4 div.sk-container {/* jupyter's `normalize.less` sets `[hidden] { display: none; }` but bootstrap.min.css set `[hidden] { display: none !important; }` so we also need the `!important` here to be able to override the default hidden behavior on the sphinx rendered scikit-learn.org. See: https://github.com/scikit-learn/scikit-learn/issues/21755 */display: inline-block !important;position: relative;}#sk-container-id-4 div.sk-text-repr-fallback {display: none;}</style><div id=\"sk-container-id-4\" class=\"sk-top-container\"><div class=\"sk-text-repr-fallback\"><pre>XGBClassifier(base_score=None, booster=None, callbacks=None,\n",
              "              colsample_bylevel=None, colsample_bynode=None,\n",
              "              colsample_bytree=None, device=None, early_stopping_rounds=None,\n",
              "              enable_categorical=False, eval_metric=None, feature_types=None,\n",
              "              gamma=None, grow_policy=None, importance_type=None,\n",
              "              interaction_constraints=None, learning_rate=0.01, max_bin=None,\n",
              "              max_cat_threshold=None, max_cat_to_onehot=None,\n",
              "              max_delta_step=None, max_depth=6, max_leaves=None,\n",
              "              min_child_weight=None, missing=nan, monotone_constraints=None,\n",
              "              multi_strategy=None, n_estimators=1000, n_jobs=None,\n",
              "              num_parallel_tree=None, random_state=42, ...)</pre><b>In a Jupyter environment, please rerun this cell to show the HTML representation or trust the notebook. <br />On GitHub, the HTML representation is unable to render, please try loading this page with nbviewer.org.</b></div><div class=\"sk-container\" hidden><div class=\"sk-item\"><div class=\"sk-estimator sk-toggleable\"><input class=\"sk-toggleable__control sk-hidden--visually\" id=\"sk-estimator-id-4\" type=\"checkbox\" checked><label for=\"sk-estimator-id-4\" class=\"sk-toggleable__label sk-toggleable__label-arrow\">XGBClassifier</label><div class=\"sk-toggleable__content\"><pre>XGBClassifier(base_score=None, booster=None, callbacks=None,\n",
              "              colsample_bylevel=None, colsample_bynode=None,\n",
              "              colsample_bytree=None, device=None, early_stopping_rounds=None,\n",
              "              enable_categorical=False, eval_metric=None, feature_types=None,\n",
              "              gamma=None, grow_policy=None, importance_type=None,\n",
              "              interaction_constraints=None, learning_rate=0.01, max_bin=None,\n",
              "              max_cat_threshold=None, max_cat_to_onehot=None,\n",
              "              max_delta_step=None, max_depth=6, max_leaves=None,\n",
              "              min_child_weight=None, missing=nan, monotone_constraints=None,\n",
              "              multi_strategy=None, n_estimators=1000, n_jobs=None,\n",
              "              num_parallel_tree=None, random_state=42, ...)</pre></div></div></div></div></div>"
            ],
            "text/plain": [
              "XGBClassifier(base_score=None, booster=None, callbacks=None,\n",
              "              colsample_bylevel=None, colsample_bynode=None,\n",
              "              colsample_bytree=None, device=None, early_stopping_rounds=None,\n",
              "              enable_categorical=False, eval_metric=None, feature_types=None,\n",
              "              gamma=None, grow_policy=None, importance_type=None,\n",
              "              interaction_constraints=None, learning_rate=0.01, max_bin=None,\n",
              "              max_cat_threshold=None, max_cat_to_onehot=None,\n",
              "              max_delta_step=None, max_depth=6, max_leaves=None,\n",
              "              min_child_weight=None, missing=nan, monotone_constraints=None,\n",
              "              multi_strategy=None, n_estimators=1000, n_jobs=None,\n",
              "              num_parallel_tree=None, random_state=42, ...)"
            ]
          },
          "execution_count": 39,
          "metadata": {},
          "output_type": "execute_result"
        }
      ],
      "source": [
        "import xgboost as xgb\n",
        "from sklearn.datasets import load_iris\n",
        "from sklearn.model_selection import train_test_split\n",
        "from sklearn.metrics import accuracy_score\n",
        "\n",
        "xgb = xgb.XGBClassifier(random_state=42)\n",
        "\n",
        "xgb_params = {\n",
        "    'n_estimators': [100, 200, 300],\n",
        "    'max_depth': [3, 4, 5],\n",
        "    'learning_rate': [0.01, 0.1, 0.2],\n",
        "    'subsample': [0.8, 0.9, 1.0],\n",
        "    'colsample_bytree': [0.8, 0.9, 1.0],\n",
        "    'reg_alpha': [0, 0.1, 0.5],\n",
        "    'reg_lambda': [0, 0.1, 0.5]\n",
        "}\n",
        "\n",
        "xgb_grid = GridSearchCV(\n",
        "    xgb,\n",
        "    xgb_params,\n",
        "    scoring='accuracy',\n",
        "    cv=3,\n",
        "    verbose=1,\n",
        "    n_jobs=-1\n",
        ")\n",
        "\n",
        "\n",
        "xgb_grid.fit(X_train, y_train)\n",
        "\n",
        "xgb_best_model = xgb_grid.best_estimator_"
      ]
    },
    {
      "cell_type": "code",
      "execution_count": null,
      "id": "ff1480a8",
      "metadata": {
        "execution": {
          "iopub.execute_input": "2025-04-10T21:28:15.831385Z",
          "iopub.status.busy": "2025-04-10T21:28:15.831004Z",
          "iopub.status.idle": "2025-04-10T21:28:16.088041Z",
          "shell.execute_reply": "2025-04-10T21:28:16.087028Z"
        },
        "papermill": {
          "duration": 0.27472,
          "end_time": "2025-04-10T21:28:16.090222",
          "exception": false,
          "start_time": "2025-04-10T21:28:15.815502",
          "status": "completed"
        },
        "tags": [],
        "id": "ff1480a8",
        "outputId": "104e3f6e-d49b-43c5-c81e-5657e68f9d29"
      },
      "outputs": [
        {
          "name": "stdout",
          "output_type": "stream",
          "text": [
            "Accuracy: 0.62775\n"
          ]
        }
      ],
      "source": [
        "# Predict on test data\n",
        "y_pred_xgb = xgb_best_model.predict(X_val)\n",
        "\n",
        "# Accuracy\n",
        "print(f\"Accuracy: {accuracy_score(y_val, y_pred_xgb)}\")"
      ]
    },
    {
      "cell_type": "code",
      "execution_count": null,
      "id": "62e4dc1a",
      "metadata": {
        "execution": {
          "iopub.execute_input": "2025-04-10T21:28:16.122745Z",
          "iopub.status.busy": "2025-04-10T21:28:16.122372Z",
          "iopub.status.idle": "2025-04-10T21:28:16.131416Z",
          "shell.execute_reply": "2025-04-10T21:28:16.130211Z"
        },
        "papermill": {
          "duration": 0.027473,
          "end_time": "2025-04-10T21:28:16.133354",
          "exception": false,
          "start_time": "2025-04-10T21:28:16.105881",
          "status": "completed"
        },
        "tags": [],
        "id": "62e4dc1a",
        "outputId": "ff352c37-19d8-4eba-d809-915fabc7aafc"
      },
      "outputs": [
        {
          "data": {
            "text/html": [
              "<style>#sk-container-id-5 {color: black;background-color: white;}#sk-container-id-5 pre{padding: 0;}#sk-container-id-5 div.sk-toggleable {background-color: white;}#sk-container-id-5 label.sk-toggleable__label {cursor: pointer;display: block;width: 100%;margin-bottom: 0;padding: 0.3em;box-sizing: border-box;text-align: center;}#sk-container-id-5 label.sk-toggleable__label-arrow:before {content: \"▸\";float: left;margin-right: 0.25em;color: #696969;}#sk-container-id-5 label.sk-toggleable__label-arrow:hover:before {color: black;}#sk-container-id-5 div.sk-estimator:hover label.sk-toggleable__label-arrow:before {color: black;}#sk-container-id-5 div.sk-toggleable__content {max-height: 0;max-width: 0;overflow: hidden;text-align: left;background-color: #f0f8ff;}#sk-container-id-5 div.sk-toggleable__content pre {margin: 0.2em;color: black;border-radius: 0.25em;background-color: #f0f8ff;}#sk-container-id-5 input.sk-toggleable__control:checked~div.sk-toggleable__content {max-height: 200px;max-width: 100%;overflow: auto;}#sk-container-id-5 input.sk-toggleable__control:checked~label.sk-toggleable__label-arrow:before {content: \"▾\";}#sk-container-id-5 div.sk-estimator input.sk-toggleable__control:checked~label.sk-toggleable__label {background-color: #d4ebff;}#sk-container-id-5 div.sk-label input.sk-toggleable__control:checked~label.sk-toggleable__label {background-color: #d4ebff;}#sk-container-id-5 input.sk-hidden--visually {border: 0;clip: rect(1px 1px 1px 1px);clip: rect(1px, 1px, 1px, 1px);height: 1px;margin: -1px;overflow: hidden;padding: 0;position: absolute;width: 1px;}#sk-container-id-5 div.sk-estimator {font-family: monospace;background-color: #f0f8ff;border: 1px dotted black;border-radius: 0.25em;box-sizing: border-box;margin-bottom: 0.5em;}#sk-container-id-5 div.sk-estimator:hover {background-color: #d4ebff;}#sk-container-id-5 div.sk-parallel-item::after {content: \"\";width: 100%;border-bottom: 1px solid gray;flex-grow: 1;}#sk-container-id-5 div.sk-label:hover label.sk-toggleable__label {background-color: #d4ebff;}#sk-container-id-5 div.sk-serial::before {content: \"\";position: absolute;border-left: 1px solid gray;box-sizing: border-box;top: 0;bottom: 0;left: 50%;z-index: 0;}#sk-container-id-5 div.sk-serial {display: flex;flex-direction: column;align-items: center;background-color: white;padding-right: 0.2em;padding-left: 0.2em;position: relative;}#sk-container-id-5 div.sk-item {position: relative;z-index: 1;}#sk-container-id-5 div.sk-parallel {display: flex;align-items: stretch;justify-content: center;background-color: white;position: relative;}#sk-container-id-5 div.sk-item::before, #sk-container-id-5 div.sk-parallel-item::before {content: \"\";position: absolute;border-left: 1px solid gray;box-sizing: border-box;top: 0;bottom: 0;left: 50%;z-index: -1;}#sk-container-id-5 div.sk-parallel-item {display: flex;flex-direction: column;z-index: 1;position: relative;background-color: white;}#sk-container-id-5 div.sk-parallel-item:first-child::after {align-self: flex-end;width: 50%;}#sk-container-id-5 div.sk-parallel-item:last-child::after {align-self: flex-start;width: 50%;}#sk-container-id-5 div.sk-parallel-item:only-child::after {width: 0;}#sk-container-id-5 div.sk-dashed-wrapped {border: 1px dashed gray;margin: 0 0.4em 0.5em 0.4em;box-sizing: border-box;padding-bottom: 0.4em;background-color: white;}#sk-container-id-5 div.sk-label label {font-family: monospace;font-weight: bold;display: inline-block;line-height: 1.2em;}#sk-container-id-5 div.sk-label-container {text-align: center;}#sk-container-id-5 div.sk-container {/* jupyter's `normalize.less` sets `[hidden] { display: none; }` but bootstrap.min.css set `[hidden] { display: none !important; }` so we also need the `!important` here to be able to override the default hidden behavior on the sphinx rendered scikit-learn.org. See: https://github.com/scikit-learn/scikit-learn/issues/21755 */display: inline-block !important;position: relative;}#sk-container-id-5 div.sk-text-repr-fallback {display: none;}</style><div id=\"sk-container-id-5\" class=\"sk-top-container\"><div class=\"sk-text-repr-fallback\"><pre>XGBClassifier(base_score=None, booster=None, callbacks=None,\n",
              "              colsample_bylevel=None, colsample_bynode=None,\n",
              "              colsample_bytree=None, device=None, early_stopping_rounds=None,\n",
              "              enable_categorical=False, eval_metric=None, feature_types=None,\n",
              "              gamma=None, grow_policy=None, importance_type=None,\n",
              "              interaction_constraints=None, learning_rate=0.01, max_bin=None,\n",
              "              max_cat_threshold=None, max_cat_to_onehot=None,\n",
              "              max_delta_step=None, max_depth=6, max_leaves=None,\n",
              "              min_child_weight=None, missing=nan, monotone_constraints=None,\n",
              "              multi_strategy=None, n_estimators=1000, n_jobs=None,\n",
              "              num_parallel_tree=None, random_state=42, ...)</pre><b>In a Jupyter environment, please rerun this cell to show the HTML representation or trust the notebook. <br />On GitHub, the HTML representation is unable to render, please try loading this page with nbviewer.org.</b></div><div class=\"sk-container\" hidden><div class=\"sk-item\"><div class=\"sk-estimator sk-toggleable\"><input class=\"sk-toggleable__control sk-hidden--visually\" id=\"sk-estimator-id-5\" type=\"checkbox\" checked><label for=\"sk-estimator-id-5\" class=\"sk-toggleable__label sk-toggleable__label-arrow\">XGBClassifier</label><div class=\"sk-toggleable__content\"><pre>XGBClassifier(base_score=None, booster=None, callbacks=None,\n",
              "              colsample_bylevel=None, colsample_bynode=None,\n",
              "              colsample_bytree=None, device=None, early_stopping_rounds=None,\n",
              "              enable_categorical=False, eval_metric=None, feature_types=None,\n",
              "              gamma=None, grow_policy=None, importance_type=None,\n",
              "              interaction_constraints=None, learning_rate=0.01, max_bin=None,\n",
              "              max_cat_threshold=None, max_cat_to_onehot=None,\n",
              "              max_delta_step=None, max_depth=6, max_leaves=None,\n",
              "              min_child_weight=None, missing=nan, monotone_constraints=None,\n",
              "              multi_strategy=None, n_estimators=1000, n_jobs=None,\n",
              "              num_parallel_tree=None, random_state=42, ...)</pre></div></div></div></div></div>"
            ],
            "text/plain": [
              "XGBClassifier(base_score=None, booster=None, callbacks=None,\n",
              "              colsample_bylevel=None, colsample_bynode=None,\n",
              "              colsample_bytree=None, device=None, early_stopping_rounds=None,\n",
              "              enable_categorical=False, eval_metric=None, feature_types=None,\n",
              "              gamma=None, grow_policy=None, importance_type=None,\n",
              "              interaction_constraints=None, learning_rate=0.01, max_bin=None,\n",
              "              max_cat_threshold=None, max_cat_to_onehot=None,\n",
              "              max_delta_step=None, max_depth=6, max_leaves=None,\n",
              "              min_child_weight=None, missing=nan, monotone_constraints=None,\n",
              "              multi_strategy=None, n_estimators=1000, n_jobs=None,\n",
              "              num_parallel_tree=None, random_state=42, ...)"
            ]
          },
          "execution_count": 41,
          "metadata": {},
          "output_type": "execute_result"
        }
      ],
      "source": [
        "xgb_best_model"
      ]
    },
    {
      "cell_type": "code",
      "execution_count": null,
      "id": "dc7d3118",
      "metadata": {
        "execution": {
          "iopub.execute_input": "2025-04-10T21:28:16.165741Z",
          "iopub.status.busy": "2025-04-10T21:28:16.165343Z",
          "iopub.status.idle": "2025-04-10T21:28:16.170028Z",
          "shell.execute_reply": "2025-04-10T21:28:16.168596Z"
        },
        "papermill": {
          "duration": 0.023264,
          "end_time": "2025-04-10T21:28:16.171980",
          "exception": false,
          "start_time": "2025-04-10T21:28:16.148716",
          "status": "completed"
        },
        "tags": [],
        "id": "dc7d3118"
      },
      "outputs": [],
      "source": [
        "#xgb = XGBClassifier(n_estimators=1000, learning_rate=0.01, max_depth=6, random_state=42)"
      ]
    },
    {
      "cell_type": "markdown",
      "id": "174fb894",
      "metadata": {
        "papermill": {
          "duration": 0.017551,
          "end_time": "2025-04-10T21:28:16.204555",
          "exception": false,
          "start_time": "2025-04-10T21:28:16.187004",
          "status": "completed"
        },
        "tags": [],
        "id": "174fb894"
      },
      "source": [
        "<table border=\"1\">\n",
        "  <thead>\n",
        "    <tr>\n",
        "      <th>Model</th>\n",
        "      <th>Accuracy Score</th>\n",
        "    </tr>\n",
        "  </thead>\n",
        "  <tbody>\n",
        "    <tr>\n",
        "      <td>RandomForest</td>\n",
        "      <td>0.6257</td>\n",
        "    </tr>\n",
        "    <tr>\n",
        "      <td>LightGBM</td>\n",
        "      <td>0.6271</td>\n",
        "    </tr>\n",
        "    <tr>\n",
        "      <td>AdaBoostClassifier</td>\n",
        "      <td>0.43</td>\n",
        "    </tr>\n",
        "    <tr>\n",
        "      <td>DecisionTree</td>\n",
        "      <td>0.5634</td>\n",
        "    </tr>\n",
        "    <tr>\n",
        "      <td>XGBoost</td>\n",
        "      <td>0.6243</td>\n",
        "    </tr>\n",
        "  </tbody>\n",
        "</table>\n"
      ]
    },
    {
      "cell_type": "markdown",
      "id": "14170c59",
      "metadata": {
        "papermill": {
          "duration": 0.015344,
          "end_time": "2025-04-10T21:28:16.236167",
          "exception": false,
          "start_time": "2025-04-10T21:28:16.220823",
          "status": "completed"
        },
        "tags": [],
        "id": "14170c59"
      },
      "source": [
        "----"
      ]
    },
    {
      "cell_type": "markdown",
      "id": "df54dcc3",
      "metadata": {
        "papermill": {
          "duration": 0.014615,
          "end_time": "2025-04-10T21:28:16.267709",
          "exception": false,
          "start_time": "2025-04-10T21:28:16.253094",
          "status": "completed"
        },
        "tags": [],
        "id": "df54dcc3"
      },
      "source": [
        "# SUBMISSION"
      ]
    },
    {
      "cell_type": "code",
      "execution_count": null,
      "id": "bed07a6a",
      "metadata": {
        "execution": {
          "iopub.execute_input": "2025-04-10T21:28:16.298838Z",
          "iopub.status.busy": "2025-04-10T21:28:16.298497Z",
          "iopub.status.idle": "2025-04-10T21:28:16.432816Z",
          "shell.execute_reply": "2025-04-10T21:28:16.431240Z"
        },
        "papermill": {
          "duration": 0.152076,
          "end_time": "2025-04-10T21:28:16.434779",
          "exception": false,
          "start_time": "2025-04-10T21:28:16.282703",
          "status": "completed"
        },
        "tags": [],
        "id": "bed07a6a"
      },
      "outputs": [],
      "source": [
        "X_test = pd.read_csv(\"/kaggle/input/System-Threat-Forecaster/test.csv\")"
      ]
    },
    {
      "cell_type": "code",
      "execution_count": null,
      "id": "472acf89",
      "metadata": {
        "execution": {
          "iopub.execute_input": "2025-04-10T21:28:16.467664Z",
          "iopub.status.busy": "2025-04-10T21:28:16.467225Z",
          "iopub.status.idle": "2025-04-10T21:28:16.471939Z",
          "shell.execute_reply": "2025-04-10T21:28:16.470791Z"
        },
        "papermill": {
          "duration": 0.023018,
          "end_time": "2025-04-10T21:28:16.474218",
          "exception": false,
          "start_time": "2025-04-10T21:28:16.451200",
          "status": "completed"
        },
        "tags": [],
        "id": "472acf89"
      },
      "outputs": [],
      "source": [
        "# from lightgbm import LGBMClassifier\n",
        "# from sklearn.model_selection import RandomizedSearchCV\n",
        "# from sklearn.metrics import accuracy_score\n",
        "\n",
        "# lgb = LGBMClassifier(random_state=42)\n",
        "\n",
        "# param_grid_lgb = {\n",
        "#     'n_estimators': [50, 100, 200],\n",
        "#     'max_depth': [3, 5, 7, 9],\n",
        "#     'learning_rate': [0.01, 0.05, 0.1],\n",
        "#     'subsample': [0.6, 0.8, 1.0]\n",
        "# }\n",
        "\n",
        "# lgb_random_search = RandomizedSearchCV(\n",
        "#     estimator=lgb,\n",
        "#     param_distributions=param_grid_lgb,\n",
        "#     n_iter=10,\n",
        "#     cv=3,\n",
        "#     scoring='accuracy',\n",
        "#     n_jobs=-1,\n",
        "#     verbose=3,\n",
        "#     random_state=42\n",
        "# )\n",
        "\n",
        "# lgb_random_search.fit(X_train, y_train)"
      ]
    },
    {
      "cell_type": "code",
      "execution_count": null,
      "id": "b9cd1d62",
      "metadata": {
        "execution": {
          "iopub.execute_input": "2025-04-10T21:28:16.506382Z",
          "iopub.status.busy": "2025-04-10T21:28:16.506003Z",
          "iopub.status.idle": "2025-04-10T21:28:16.531098Z",
          "shell.execute_reply": "2025-04-10T21:28:16.530123Z"
        },
        "papermill": {
          "duration": 0.043029,
          "end_time": "2025-04-10T21:28:16.533082",
          "exception": false,
          "start_time": "2025-04-10T21:28:16.490053",
          "status": "completed"
        },
        "tags": [],
        "id": "b9cd1d62",
        "outputId": "331e4f82-3d33-47a9-e309-6a48a06969ed"
      },
      "outputs": [
        {
          "data": {
            "text/plain": [
              "(10000, 70)"
            ]
          },
          "execution_count": 45,
          "metadata": {},
          "output_type": "execute_result"
        }
      ],
      "source": [
        "redundant_features = ['IsFlightsDisabled', 'IsBetaUser','AutoSampleSubmissionEnabled','DeviceFamily','MachineID']\n",
        "\n",
        "for feature in redundant_features :\n",
        "    if feature in X_test.columns :\n",
        "        X_test.drop(columns=feature, inplace=True)\n",
        "\n",
        "X_test.shape"
      ]
    },
    {
      "cell_type": "code",
      "execution_count": null,
      "id": "922cbdf6",
      "metadata": {
        "execution": {
          "iopub.execute_input": "2025-04-10T21:28:16.565952Z",
          "iopub.status.busy": "2025-04-10T21:28:16.565580Z",
          "iopub.status.idle": "2025-04-10T21:28:16.569722Z",
          "shell.execute_reply": "2025-04-10T21:28:16.568419Z"
        },
        "papermill": {
          "duration": 0.021991,
          "end_time": "2025-04-10T21:28:16.571651",
          "exception": false,
          "start_time": "2025-04-10T21:28:16.549660",
          "status": "completed"
        },
        "tags": [],
        "id": "922cbdf6"
      },
      "outputs": [],
      "source": [
        "# X_test['DateAS'] = pd.to_datetime(X_test['DateAS'])\n",
        "# X_test['DateOS'] = pd.to_datetime(X_test['DateOS'])"
      ]
    },
    {
      "cell_type": "code",
      "execution_count": null,
      "id": "0d4cc1ac",
      "metadata": {
        "execution": {
          "iopub.execute_input": "2025-04-10T21:28:16.603078Z",
          "iopub.status.busy": "2025-04-10T21:28:16.602718Z",
          "iopub.status.idle": "2025-04-10T21:28:20.289546Z",
          "shell.execute_reply": "2025-04-10T21:28:20.288335Z"
        },
        "papermill": {
          "duration": 3.704963,
          "end_time": "2025-04-10T21:28:20.291567",
          "exception": false,
          "start_time": "2025-04-10T21:28:16.586604",
          "status": "completed"
        },
        "tags": [],
        "id": "0d4cc1ac"
      },
      "outputs": [],
      "source": [
        "# Fill missing values in test set\n",
        "for col in numerical_col:\n",
        "    X_test[col].fillna(df[col].mean(), inplace=True)\n",
        "\n",
        "for col in categorical_col:\n",
        "    X_test[col].fillna(df[col].mode()[0], inplace=True)\n",
        "\n",
        "# Scale numerical features in test set\n",
        "X_test[numerical_col] = scaler.transform(X_test[numerical_col])\n",
        "\n",
        "# Encode categorical features in test set (handle unseen values)\n",
        "for col in categorical_col:\n",
        "    X_test[col] = X_test[col].apply(lambda x: x if x in encoders[col].classes_ else X_train[col].mode()[0])\n",
        "    encoders[col].classes_ = np.append(encoders[col].classes_, X_train[col].mode()[0]) if X_train[col].mode()[0] not in encoders[col].classes_ else encoders[col].classes_\n",
        "    X_test[col] = encoders[col].transform(X_test[col])"
      ]
    },
    {
      "cell_type": "code",
      "execution_count": null,
      "id": "41e021ae",
      "metadata": {
        "execution": {
          "iopub.execute_input": "2025-04-10T21:28:20.323125Z",
          "iopub.status.busy": "2025-04-10T21:28:20.322786Z",
          "iopub.status.idle": "2025-04-10T21:28:20.326953Z",
          "shell.execute_reply": "2025-04-10T21:28:20.325976Z"
        },
        "papermill": {
          "duration": 0.021798,
          "end_time": "2025-04-10T21:28:20.328806",
          "exception": false,
          "start_time": "2025-04-10T21:28:20.307008",
          "status": "completed"
        },
        "tags": [],
        "id": "41e021ae"
      },
      "outputs": [],
      "source": [
        "from sklearn.linear_model import LogisticRegression"
      ]
    },
    {
      "cell_type": "code",
      "execution_count": null,
      "id": "1e1f14ad",
      "metadata": {
        "execution": {
          "iopub.execute_input": "2025-04-10T21:28:20.361658Z",
          "iopub.status.busy": "2025-04-10T21:28:20.361214Z",
          "iopub.status.idle": "2025-04-10T21:38:42.398143Z",
          "shell.execute_reply": "2025-04-10T21:38:42.396588Z"
        },
        "papermill": {
          "duration": 622.076143,
          "end_time": "2025-04-10T21:38:42.420346",
          "exception": false,
          "start_time": "2025-04-10T21:28:20.344203",
          "status": "completed"
        },
        "tags": [],
        "id": "1e1f14ad",
        "outputId": "13466ac3-67e0-402d-dc9f-4e4dacd6f277"
      },
      "outputs": [
        {
          "name": "stdout",
          "output_type": "stream",
          "text": [
            "[LightGBM] [Info] Number of positive: 40420, number of negative: 39580\n",
            "[LightGBM] [Info] Auto-choosing row-wise multi-threading, the overhead of testing was 0.018913 seconds.\n",
            "You can set `force_row_wise=true` to remove the overhead.\n",
            "And if memory is not enough, you can set `force_col_wise=true`.\n",
            "[LightGBM] [Info] Total Bins 4789\n",
            "[LightGBM] [Info] Number of data points in the train set: 80000, number of used features: 70\n",
            "[LightGBM] [Info] [binary:BoostFromScore]: pavg=0.505250 -> initscore=0.021001\n",
            "[LightGBM] [Info] Start training from score 0.021001\n",
            "[LightGBM] [Warning] No further splits with positive gain, best gain: -inf\n",
            "[LightGBM] [Warning] No further splits with positive gain, best gain: -inf\n",
            "[LightGBM] [Warning] No further splits with positive gain, best gain: -inf\n",
            "[LightGBM] [Warning] No further splits with positive gain, best gain: -inf\n",
            "[LightGBM] [Info] Number of positive: 32336, number of negative: 31664\n",
            "[LightGBM] [Info] Auto-choosing row-wise multi-threading, the overhead of testing was 0.012689 seconds.\n",
            "You can set `force_row_wise=true` to remove the overhead.\n",
            "And if memory is not enough, you can set `force_col_wise=true`.\n",
            "[LightGBM] [Info] Total Bins 4723\n",
            "[LightGBM] [Info] Number of data points in the train set: 64000, number of used features: 70\n",
            "[LightGBM] [Info] [binary:BoostFromScore]: pavg=0.505250 -> initscore=0.021001\n",
            "[LightGBM] [Info] Start training from score 0.021001\n",
            "[LightGBM] [Warning] No further splits with positive gain, best gain: -inf\n",
            "[LightGBM] [Warning] No further splits with positive gain, best gain: -inf\n",
            "[LightGBM] [Warning] No further splits with positive gain, best gain: -inf\n",
            "[LightGBM] [Warning] No further splits with positive gain, best gain: -inf\n",
            "[LightGBM] [Warning] No further splits with positive gain, best gain: -inf\n",
            "[LightGBM] [Warning] No further splits with positive gain, best gain: -inf\n",
            "[LightGBM] [Warning] No further splits with positive gain, best gain: -inf\n",
            "[LightGBM] [Warning] No further splits with positive gain, best gain: -inf\n",
            "[LightGBM] [Warning] No further splits with positive gain, best gain: -inf\n",
            "[LightGBM] [Info] Number of positive: 32336, number of negative: 31664\n",
            "[LightGBM] [Info] Auto-choosing row-wise multi-threading, the overhead of testing was 0.014455 seconds.\n",
            "You can set `force_row_wise=true` to remove the overhead.\n",
            "And if memory is not enough, you can set `force_col_wise=true`.\n",
            "[LightGBM] [Info] Total Bins 4718\n",
            "[LightGBM] [Info] Number of data points in the train set: 64000, number of used features: 70\n",
            "[LightGBM] [Info] [binary:BoostFromScore]: pavg=0.505250 -> initscore=0.021001\n",
            "[LightGBM] [Info] Start training from score 0.021001\n",
            "[LightGBM] [Warning] No further splits with positive gain, best gain: -inf\n",
            "[LightGBM] [Warning] No further splits with positive gain, best gain: -inf\n",
            "[LightGBM] [Warning] No further splits with positive gain, best gain: -inf\n",
            "[LightGBM] [Warning] No further splits with positive gain, best gain: -inf\n",
            "[LightGBM] [Warning] No further splits with positive gain, best gain: -inf\n",
            "[LightGBM] [Warning] No further splits with positive gain, best gain: -inf\n",
            "[LightGBM] [Warning] No further splits with positive gain, best gain: -inf\n",
            "[LightGBM] [Warning] No further splits with positive gain, best gain: -inf\n",
            "[LightGBM] [Warning] No further splits with positive gain, best gain: -inf\n",
            "[LightGBM] [Info] Number of positive: 32336, number of negative: 31664\n",
            "[LightGBM] [Info] Auto-choosing row-wise multi-threading, the overhead of testing was 0.014650 seconds.\n",
            "You can set `force_row_wise=true` to remove the overhead.\n",
            "And if memory is not enough, you can set `force_col_wise=true`.\n",
            "[LightGBM] [Info] Total Bins 4729\n",
            "[LightGBM] [Info] Number of data points in the train set: 64000, number of used features: 70\n",
            "[LightGBM] [Info] [binary:BoostFromScore]: pavg=0.505250 -> initscore=0.021001\n",
            "[LightGBM] [Info] Start training from score 0.021001\n",
            "[LightGBM] [Warning] No further splits with positive gain, best gain: -inf\n",
            "[LightGBM] [Warning] No further splits with positive gain, best gain: -inf\n",
            "[LightGBM] [Info] Number of positive: 32336, number of negative: 31664\n",
            "[LightGBM] [Info] Auto-choosing row-wise multi-threading, the overhead of testing was 0.013018 seconds.\n",
            "You can set `force_row_wise=true` to remove the overhead.\n",
            "And if memory is not enough, you can set `force_col_wise=true`.\n",
            "[LightGBM] [Info] Total Bins 4728\n",
            "[LightGBM] [Info] Number of data points in the train set: 64000, number of used features: 70\n",
            "[LightGBM] [Info] [binary:BoostFromScore]: pavg=0.505250 -> initscore=0.021001\n",
            "[LightGBM] [Info] Start training from score 0.021001\n",
            "[LightGBM] [Warning] No further splits with positive gain, best gain: -inf\n",
            "[LightGBM] [Warning] No further splits with positive gain, best gain: -inf\n",
            "[LightGBM] [Warning] No further splits with positive gain, best gain: -inf\n",
            "[LightGBM] [Warning] No further splits with positive gain, best gain: -inf\n",
            "[LightGBM] [Warning] No further splits with positive gain, best gain: -inf\n",
            "[LightGBM] [Info] Number of positive: 32336, number of negative: 31664\n",
            "[LightGBM] [Info] Auto-choosing row-wise multi-threading, the overhead of testing was 0.012333 seconds.\n",
            "You can set `force_row_wise=true` to remove the overhead.\n",
            "And if memory is not enough, you can set `force_col_wise=true`.\n",
            "[LightGBM] [Info] Total Bins 4703\n",
            "[LightGBM] [Info] Number of data points in the train set: 64000, number of used features: 70\n",
            "[LightGBM] [Info] [binary:BoostFromScore]: pavg=0.505250 -> initscore=0.021001\n",
            "[LightGBM] [Info] Start training from score 0.021001\n",
            "[LightGBM] [Warning] No further splits with positive gain, best gain: -inf\n",
            "[LightGBM] [Warning] No further splits with positive gain, best gain: -inf\n",
            "[LightGBM] [Warning] No further splits with positive gain, best gain: -inf\n",
            "[LightGBM] [Warning] No further splits with positive gain, best gain: -inf\n",
            "[LightGBM] [Warning] No further splits with positive gain, best gain: -inf\n",
            "[LightGBM] [Warning] No further splits with positive gain, best gain: -inf\n",
            "[LightGBM] [Warning] No further splits with positive gain, best gain: -inf\n",
            "[LightGBM] [Warning] No further splits with positive gain, best gain: -inf\n",
            "[LightGBM] [Warning] No further splits with positive gain, best gain: -inf\n",
            "Accuracy: 0.63025\n"
          ]
        }
      ],
      "source": [
        "from sklearn.ensemble import StackingClassifier\n",
        "\n",
        "stack = StackingClassifier(\n",
        "    estimators=[\n",
        "        ('rf', rf_best_model),\n",
        "        ('lgb',lgb_best_model),\n",
        "        ('xgb',xgb_best_model),\n",
        "        ('ada',ada_best_model)],\n",
        "\n",
        "    final_estimator=LogisticRegression()\n",
        ")\n",
        "\n",
        "stack.fit(X_train, y_train)\n",
        "\n",
        "y_pred_stack = stack.predict(X_val)\n",
        "\n",
        "print(f\"Accuracy: {accuracy_score(y_val, y_pred_stack)}\")"
      ]
    },
    {
      "cell_type": "code",
      "execution_count": null,
      "id": "d7f17d46",
      "metadata": {
        "execution": {
          "iopub.execute_input": "2025-04-10T21:38:42.457381Z",
          "iopub.status.busy": "2025-04-10T21:38:42.456977Z",
          "iopub.status.idle": "2025-04-10T21:38:43.938824Z",
          "shell.execute_reply": "2025-04-10T21:38:43.937294Z"
        },
        "papermill": {
          "duration": 1.503763,
          "end_time": "2025-04-10T21:38:43.940958",
          "exception": false,
          "start_time": "2025-04-10T21:38:42.437195",
          "status": "completed"
        },
        "tags": [],
        "id": "d7f17d46",
        "outputId": "51ca4b35-d536-4eb3-d231-bf10b8c4e13b"
      },
      "outputs": [
        {
          "data": {
            "text/plain": [
              "array([1, 0, 1, ..., 0, 0, 0])"
            ]
          },
          "execution_count": 50,
          "metadata": {},
          "output_type": "execute_result"
        }
      ],
      "source": [
        "y_pred = stack.predict(X_test)\n",
        "y_pred"
      ]
    },
    {
      "cell_type": "code",
      "execution_count": null,
      "id": "ecd12437",
      "metadata": {
        "execution": {
          "iopub.execute_input": "2025-04-10T21:38:43.977394Z",
          "iopub.status.busy": "2025-04-10T21:38:43.976974Z",
          "iopub.status.idle": "2025-04-10T21:38:43.983682Z",
          "shell.execute_reply": "2025-04-10T21:38:43.982403Z"
        },
        "papermill": {
          "duration": 0.026306,
          "end_time": "2025-04-10T21:38:43.985503",
          "exception": false,
          "start_time": "2025-04-10T21:38:43.959197",
          "status": "completed"
        },
        "tags": [],
        "id": "ecd12437",
        "outputId": "6c54d406-3a59-4998-dbc5-4fbf728f9eb5"
      },
      "outputs": [
        {
          "data": {
            "text/plain": [
              "array([1, 0, 1, ..., 0, 0, 0])"
            ]
          },
          "execution_count": 51,
          "metadata": {},
          "output_type": "execute_result"
        }
      ],
      "source": [
        "y_pred"
      ]
    },
    {
      "cell_type": "code",
      "execution_count": null,
      "id": "b5a5d7e2",
      "metadata": {
        "execution": {
          "iopub.execute_input": "2025-04-10T21:38:44.019787Z",
          "iopub.status.busy": "2025-04-10T21:38:44.019388Z",
          "iopub.status.idle": "2025-04-10T21:38:44.039447Z",
          "shell.execute_reply": "2025-04-10T21:38:44.038216Z"
        },
        "papermill": {
          "duration": 0.039477,
          "end_time": "2025-04-10T21:38:44.041677",
          "exception": false,
          "start_time": "2025-04-10T21:38:44.002200",
          "status": "completed"
        },
        "tags": [],
        "id": "b5a5d7e2"
      },
      "outputs": [],
      "source": [
        "submission = pd.DataFrame({\"id\":range(0,test_data.shape[0]),\n",
        "                        \"target\": y_pred})\n",
        "submission.to_csv('submission.csv', index= False)"
      ]
    }
  ],
  "metadata": {
    "kaggle": {
      "accelerator": "none",
      "dataSources": [
        {
          "databundleVersionId": 10592855,
          "sourceId": 90791,
          "sourceType": "competition"
        }
      ],
      "dockerImageVersionId": 30839,
      "isGpuEnabled": false,
      "isInternetEnabled": false,
      "language": "python",
      "sourceType": "notebook"
    },
    "kernelspec": {
      "display_name": "Python 3",
      "language": "python",
      "name": "python3"
    },
    "language_info": {
      "codemirror_mode": {
        "name": "ipython",
        "version": 3
      },
      "file_extension": ".py",
      "mimetype": "text/x-python",
      "name": "python",
      "nbconvert_exporter": "python",
      "pygments_lexer": "ipython3",
      "version": "3.10.12"
    },
    "papermill": {
      "default_parameters": {},
      "duration": 2217.605036,
      "end_time": "2025-04-10T21:38:45.220999",
      "environment_variables": {},
      "exception": null,
      "input_path": "__notebook__.ipynb",
      "output_path": "__notebook__.ipynb",
      "parameters": {},
      "start_time": "2025-04-10T21:01:47.615963",
      "version": "2.6.0"
    },
    "colab": {
      "provenance": []
    }
  },
  "nbformat": 4,
  "nbformat_minor": 5
}